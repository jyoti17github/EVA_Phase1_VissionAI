{
  "nbformat": 4,
  "nbformat_minor": 0,
  "metadata": {
    "colab": {
      "name": "Third_Assignment_4.ipynb",
      "version": "0.3.2",
      "provenance": [],
      "collapsed_sections": []
    },
    "kernelspec": {
      "name": "python3",
      "display_name": "Python 3"
    },
    "accelerator": "GPU"
  },
  "cells": [
    {
      "cell_type": "markdown",
      "metadata": {
        "id": "5xZGKXG3-rfA",
        "colab_type": "text"
      },
      "source": [
        "## Observation from Second network :From 2nd  network( 9919 accuracy in 30 epochs) I made a note that \n",
        "###* multiple time addition of Maxpooling won't help in improoving accuracy as we have simple datasets. \n",
        "###*   we can reduce no of parameters and try to reach max possible batch size to make good network suitable with minimum available resources\n",
        "\n",
        "### please Note as in first network i added comments in per block , here skipping:("
      ]
    },
    {
      "cell_type": "markdown",
      "metadata": {
        "id": "GQzoExKk_Fxa",
        "colab_type": "text"
      },
      "source": [
        "##TRY in this network\n",
        "###1.  Batchnormalization\n",
        "###2.  Stepwise increase batch size  with constant epochs count\n",
        "###3.  Further reduce in no of parameters \n",
        "\n",
        "##Improvment from Second Network : With  8332 parameters(less from third network) and in 40 epochs achieved 9925 val accuracy"
      ]
    },
    {
      "cell_type": "markdown",
      "metadata": {
        "id": "aNyZv-Ec52ot",
        "colab_type": "text"
      },
      "source": [
        "# **Import Libraries and modules**"
      ]
    },
    {
      "cell_type": "code",
      "metadata": {
        "id": "3m3w1Cw49Zkt",
        "colab_type": "code",
        "colab": {}
      },
      "source": [
        "# https://keras.io/\n",
        "!pip install -q keras\n",
        "import keras"
      ],
      "execution_count": 0,
      "outputs": []
    },
    {
      "cell_type": "code",
      "metadata": {
        "id": "Eso6UHE080D4",
        "colab_type": "code",
        "colab": {}
      },
      "source": [
        "import numpy as np\n",
        "\n",
        "from keras.models import Sequential\n",
        "from keras.layers import Dense, Dropout, Activation, Flatten, Add, BatchNormalization\n",
        "from keras.layers import Convolution2D, MaxPooling2D\n",
        "from keras.utils import np_utils\n",
        "\n",
        "from keras.datasets import mnist"
      ],
      "execution_count": 0,
      "outputs": []
    },
    {
      "cell_type": "markdown",
      "metadata": {
        "id": "zByEi95J86RD",
        "colab_type": "text"
      },
      "source": [
        "### Load pre-shuffled MNIST data into train and test sets"
      ]
    },
    {
      "cell_type": "code",
      "metadata": {
        "id": "7eRM0QWN83PV",
        "colab_type": "code",
        "colab": {}
      },
      "source": [
        "(X_train, y_train), (X_test, y_test) = mnist.load_data()"
      ],
      "execution_count": 0,
      "outputs": []
    },
    {
      "cell_type": "code",
      "metadata": {
        "id": "4a4Be72j8-ZC",
        "colab_type": "code",
        "outputId": "21123069-c6d2-4399-9493-757bffc92033",
        "colab": {
          "base_uri": "https://localhost:8080/",
          "height": 302
        }
      },
      "source": [
        "print (X_train.shape)\n",
        "from matplotlib import pyplot as plt\n",
        "%matplotlib inline\n",
        "plt.imshow(X_train[1])"
      ],
      "execution_count": 0,
      "outputs": [
        {
          "output_type": "stream",
          "text": [
            "(60000, 28, 28)\n"
          ],
          "name": "stdout"
        },
        {
          "output_type": "execute_result",
          "data": {
            "text/plain": [
              "<matplotlib.image.AxesImage at 0x7f9ea0b328d0>"
            ]
          },
          "metadata": {
            "tags": []
          },
          "execution_count": 19
        },
        {
          "output_type": "display_data",
          "data": {
            "image/png": "[encoded data removed]",
            "text/plain": [
              "<Figure size 432x288 with 1 Axes>"
            ]
          },
          "metadata": {
            "tags": []
          }
        }
      ]
    },
    {
      "cell_type": "code",
      "metadata": {
        "id": "dkmprriw9AnZ",
        "colab_type": "code",
        "colab": {}
      },
      "source": [
        "X_train = X_train.reshape(X_train.shape[0], 28, 28,1)\n",
        "X_test = X_test.reshape(X_test.shape[0], 28, 28,1)"
      ],
      "execution_count": 0,
      "outputs": []
    },
    {
      "cell_type": "code",
      "metadata": {
        "id": "X2m4YS4E9CRh",
        "colab_type": "code",
        "colab": {}
      },
      "source": [
        "X_train = X_train.astype('float32')\n",
        "X_test = X_test.astype('float32')\n",
        "X_train /= 255\n",
        "X_test /= 255"
      ],
      "execution_count": 0,
      "outputs": []
    },
    {
      "cell_type": "code",
      "metadata": {
        "id": "0Mn0vAYD9DvB",
        "colab_type": "code",
        "outputId": "a6f00951-34a1-41ae-abf0-492981452e76",
        "colab": {
          "base_uri": "https://localhost:8080/",
          "height": 33
        }
      },
      "source": [
        "y_train[:10]"
      ],
      "execution_count": 0,
      "outputs": [
        {
          "output_type": "execute_result",
          "data": {
            "text/plain": [
              "array([5, 0, 4, 1, 9, 2, 1, 3, 1, 4], dtype=uint8)"
            ]
          },
          "metadata": {
            "tags": []
          },
          "execution_count": 22
        }
      ]
    },
    {
      "cell_type": "code",
      "metadata": {
        "id": "ZG8JiXR39FHC",
        "colab_type": "code",
        "colab": {}
      },
      "source": [
        "# Convert 1-dimensional class arrays to 10-dimensional class matrices\n",
        "Y_train = np_utils.to_categorical(y_train, 10)\n",
        "Y_test = np_utils.to_categorical(y_test, 10)"
      ],
      "execution_count": 0,
      "outputs": []
    },
    {
      "cell_type": "code",
      "metadata": {
        "id": "fYlFRvKS9HMB",
        "colab_type": "code",
        "outputId": "1b2942d2-d390-456b-c6ae-cec58a097d88",
        "colab": {
          "base_uri": "https://localhost:8080/",
          "height": 184
        }
      },
      "source": [
        "Y_train[:10]\n"
      ],
      "execution_count": 0,
      "outputs": [
        {
          "output_type": "execute_result",
          "data": {
            "text/plain": [
              "array([[0., 0., 0., 0., 0., 1., 0., 0., 0., 0.],\n",
              "       [1., 0., 0., 0., 0., 0., 0., 0., 0., 0.],\n",
              "       [0., 0., 0., 0., 1., 0., 0., 0., 0., 0.],\n",
              "       [0., 1., 0., 0., 0., 0., 0., 0., 0., 0.],\n",
              "       [0., 0., 0., 0., 0., 0., 0., 0., 0., 1.],\n",
              "       [0., 0., 1., 0., 0., 0., 0., 0., 0., 0.],\n",
              "       [0., 1., 0., 0., 0., 0., 0., 0., 0., 0.],\n",
              "       [0., 0., 0., 1., 0., 0., 0., 0., 0., 0.],\n",
              "       [0., 1., 0., 0., 0., 0., 0., 0., 0., 0.],\n",
              "       [0., 0., 0., 0., 1., 0., 0., 0., 0., 0.]], dtype=float32)"
            ]
          },
          "metadata": {
            "tags": []
          },
          "execution_count": 24
        }
      ]
    },
    {
      "cell_type": "code",
      "metadata": {
        "id": "osKqT73Q9JJB",
        "colab_type": "code",
        "outputId": "d66ddc4d-afc3-43af-f8e0-45ebb0e3dcfc",
        "colab": {
          "base_uri": "https://localhost:8080/",
          "height": 906
        }
      },
      "source": [
        "from keras.layers import Activation\n",
        "model = Sequential()\n",
        "\n",
        " \n",
        "model.add(Convolution2D(10, 3, 3, activation='relu', name ='FirstLayer', input_shape=(28,28,1))) # RF 3x3\n",
        "model.add(BatchNormalization())\n",
        "model.add(Convolution2D(12, 3, 3, activation='relu' ,name ='SecondLayer')) # RF 5x5\n",
        "model.add(BatchNormalization())\n",
        "model.add(Convolution2D(14, 3, 3, activation='relu' , name ='ThirdLayer')) # RF 7x7\n",
        "model.add(BatchNormalization())\n",
        "model.add(MaxPooling2D(pool_size=(2, 2))) # RF 14x14\n",
        "\n",
        "model.add(Convolution2D(10, 3, activation='relu'))\n",
        "# model.add(MaxPooling2D(pool_size=(2, 2))) # RF 14x14\n",
        "model.add(Convolution2D(12, 3, 3, activation='relu' , name ='fourthThirdLayer'))\n",
        "model.add(BatchNormalization())\n",
        "model.add(Convolution2D(10, 3, 3, activation='relu' , name ='FifthLayer'))\n",
        "model.add(BatchNormalization())\n",
        "model.add(Convolution2D(10, 3, 3, activation='relu' , name ='SixthLayer'))\n",
        "model.add(Convolution2D(10, 3, 3, activation='relu' , name ='SeventhLayer'))\n",
        "# model.add(Convolution2D(16, 3, 3, activation='relu' , name ='8Layer'))\n",
        "\n",
        "model.add(Convolution2D(10, 1))#2\n",
        "\n",
        "\n",
        "model.add(Flatten())\n",
        "model.add(Activation('softmax'))\n",
        "model.summary()"
      ],
      "execution_count": 0,
      "outputs": [
        {
          "output_type": "stream",
          "text": [
            "/usr/local/lib/python3.6/dist-packages/ipykernel_launcher.py:5: UserWarning: Update your `Conv2D` call to the Keras 2 API: `Conv2D(10, (3, 3), activation=\"relu\", name=\"FirstLayer\", input_shape=(28, 28, 1...)`\n",
            "  \"\"\"\n",
            "/usr/local/lib/python3.6/dist-packages/ipykernel_launcher.py:7: UserWarning: Update your `Conv2D` call to the Keras 2 API: `Conv2D(12, (3, 3), activation=\"relu\", name=\"SecondLayer\")`\n",
            "  import sys\n",
            "/usr/local/lib/python3.6/dist-packages/ipykernel_launcher.py:9: UserWarning: Update your `Conv2D` call to the Keras 2 API: `Conv2D(14, (3, 3), activation=\"relu\", name=\"ThirdLayer\")`\n",
            "  if __name__ == '__main__':\n",
            "/usr/local/lib/python3.6/dist-packages/ipykernel_launcher.py:15: UserWarning: Update your `Conv2D` call to the Keras 2 API: `Conv2D(12, (3, 3), activation=\"relu\", name=\"fourthThirdLayer\")`\n",
            "  from ipykernel import kernelapp as app\n",
            "/usr/local/lib/python3.6/dist-packages/ipykernel_launcher.py:17: UserWarning: Update your `Conv2D` call to the Keras 2 API: `Conv2D(10, (3, 3), activation=\"relu\", name=\"FifthLayer\")`\n",
            "/usr/local/lib/python3.6/dist-packages/ipykernel_launcher.py:19: UserWarning: Update your `Conv2D` call to the Keras 2 API: `Conv2D(10, (3, 3), activation=\"relu\", name=\"SixthLayer\")`\n",
            "/usr/local/lib/python3.6/dist-packages/ipykernel_launcher.py:20: UserWarning: Update your `Conv2D` call to the Keras 2 API: `Conv2D(10, (3, 3), activation=\"relu\", name=\"SeventhLayer\")`\n"
          ],
          "name": "stderr"
        },
        {
          "output_type": "stream",
          "text": [
            "_________________________________________________________________\n",
            "Layer (type)                 Output Shape              Param #   \n",
            "=================================================================\n",
            "FirstLayer (Conv2D)          (None, 26, 26, 10)        100       \n",
            "_________________________________________________________________\n",
            "batch_normalization_8 (Batch (None, 26, 26, 10)        40        \n",
            "_________________________________________________________________\n",
            "SecondLayer (Conv2D)         (None, 24, 24, 12)        1092      \n",
            "_________________________________________________________________\n",
            "batch_normalization_9 (Batch (None, 24, 24, 12)        48        \n",
            "_________________________________________________________________\n",
            "ThirdLayer (Conv2D)          (None, 22, 22, 14)        1526      \n",
            "_________________________________________________________________\n",
            "batch_normalization_10 (Batc (None, 22, 22, 14)        56        \n",
            "_________________________________________________________________\n",
            "max_pooling2d_10 (MaxPooling (None, 11, 11, 14)        0         \n",
            "_________________________________________________________________\n",
            "conv2d_11 (Conv2D)           (None, 9, 9, 10)          1270      \n",
            "_________________________________________________________________\n",
            "fourthThirdLayer (Conv2D)    (None, 7, 7, 12)          1092      \n",
            "_________________________________________________________________\n",
            "batch_normalization_11 (Batc (None, 7, 7, 12)          48        \n",
            "_________________________________________________________________\n",
            "FifthLayer (Conv2D)          (None, 5, 5, 10)          1090      \n",
            "_________________________________________________________________\n",
            "batch_normalization_12 (Batc (None, 5, 5, 10)          40        \n",
            "_________________________________________________________________\n",
            "SixthLayer (Conv2D)          (None, 3, 3, 10)          910       \n",
            "_________________________________________________________________\n",
            "SeventhLayer (Conv2D)        (None, 1, 1, 10)          910       \n",
            "_________________________________________________________________\n",
            "conv2d_12 (Conv2D)           (None, 1, 1, 10)          110       \n",
            "_________________________________________________________________\n",
            "flatten_4 (Flatten)          (None, 10)                0         \n",
            "_________________________________________________________________\n",
            "activation_4 (Activation)    (None, 10)                0         \n",
            "=================================================================\n",
            "Total params: 8,332\n",
            "Trainable params: 8,216\n",
            "Non-trainable params: 116\n",
            "_________________________________________________________________\n"
          ],
          "name": "stdout"
        }
      ]
    },
    {
      "cell_type": "code",
      "metadata": {
        "id": "Zp6SuGrL9M3h",
        "colab_type": "code",
        "colab": {}
      },
      "source": [
        "model.compile(loss='categorical_crossentropy',\n",
        "             optimizer='adam',\n",
        "             metrics=['accuracy'])"
      ],
      "execution_count": 0,
      "outputs": []
    },
    {
      "cell_type": "markdown",
      "metadata": {
        "id": "xH7phmhr4-78",
        "colab_type": "text"
      },
      "source": [
        "## batchnormalization addition increased epochs time as see val acc is increasing so can be try if it further increased on no of epochs"
      ]
    },
    {
      "cell_type": "code",
      "metadata": {
        "id": "4xWoKhPY9Of5",
        "colab_type": "code",
        "outputId": "6e5feec1-0252-4f84-9aa8-c45de83b5634",
        "colab": {
          "base_uri": "https://localhost:8080/",
          "height": 488
        }
      },
      "source": [
        "model.fit(X_train, Y_train, batch_size=32, nb_epoch=10,validation_data=(X_test,Y_test), verbose=1)"
      ],
      "execution_count": 0,
      "outputs": [
        {
          "output_type": "stream",
          "text": [
            "WARNING:tensorflow:From /usr/local/lib/python3.6/dist-packages/tensorflow/python/ops/math_ops.py:3066: to_int32 (from tensorflow.python.ops.math_ops) is deprecated and will be removed in a future version.\n",
            "Instructions for updating:\n",
            "Use tf.cast instead.\n"
          ],
          "name": "stdout"
        },
        {
          "output_type": "stream",
          "text": [
            "/usr/local/lib/python3.6/dist-packages/ipykernel_launcher.py:1: UserWarning: The `nb_epoch` argument in `fit` has been renamed `epochs`.\n",
            "  \"\"\"Entry point for launching an IPython kernel.\n"
          ],
          "name": "stderr"
        },
        {
          "output_type": "stream",
          "text": [
            "Train on 60000 samples, validate on 10000 samples\n",
            "Epoch 1/10\n",
            "60000/60000 [==============================] - 24s 404us/step - loss: 0.2705 - acc: 0.9162 - val_loss: 0.1023 - val_acc: 0.9702\n",
            "Epoch 2/10\n",
            "60000/60000 [==============================] - 20s 339us/step - loss: 0.0734 - acc: 0.9778 - val_loss: 0.0800 - val_acc: 0.9747\n",
            "Epoch 3/10\n",
            "60000/60000 [==============================] - 20s 338us/step - loss: 0.0579 - acc: 0.9825 - val_loss: 0.0835 - val_acc: 0.9752\n",
            "Epoch 4/10\n",
            "60000/60000 [==============================] - 21s 358us/step - loss: 0.0502 - acc: 0.9841 - val_loss: 0.0529 - val_acc: 0.9825\n",
            "Epoch 5/10\n",
            "60000/60000 [==============================] - 20s 338us/step - loss: 0.0440 - acc: 0.9864 - val_loss: 0.0564 - val_acc: 0.9823\n",
            "Epoch 6/10\n",
            "60000/60000 [==============================] - 20s 340us/step - loss: 0.0402 - acc: 0.9876 - val_loss: 0.0810 - val_acc: 0.9747\n",
            "Epoch 7/10\n",
            "60000/60000 [==============================] - 20s 339us/step - loss: 0.0371 - acc: 0.9887 - val_loss: 0.0428 - val_acc: 0.9871\n",
            "Epoch 8/10\n",
            "60000/60000 [==============================] - 23s 379us/step - loss: 0.0350 - acc: 0.9889 - val_loss: 0.0467 - val_acc: 0.9858\n",
            "Epoch 9/10\n",
            "60000/60000 [==============================] - 20s 339us/step - loss: 0.0320 - acc: 0.9901 - val_loss: 0.0382 - val_acc: 0.9884\n",
            "Epoch 10/10\n",
            "60000/60000 [==============================] - 20s 340us/step - loss: 0.0288 - acc: 0.9907 - val_loss: 0.0356 - val_acc: 0.9894\n"
          ],
          "name": "stdout"
        },
        {
          "output_type": "execute_result",
          "data": {
            "text/plain": [
              "<keras.callbacks.History at 0x7f9ea0294780>"
            ]
          },
          "metadata": {
            "tags": []
          },
          "execution_count": 28
        }
      ]
    },
    {
      "cell_type": "code",
      "metadata": {
        "id": "AtsH-lLk-eLb",
        "colab_type": "code",
        "colab": {}
      },
      "source": [
        "score = model.evaluate(X_test, Y_test, verbose=0)"
      ],
      "execution_count": 0,
      "outputs": []
    },
    {
      "cell_type": "code",
      "metadata": {
        "id": "mkX8JMv79q9r",
        "colab_type": "code",
        "outputId": "e897ccb2-bc7c-4a5f-c845-ea89549da0d6",
        "colab": {
          "base_uri": "https://localhost:8080/",
          "height": 33
        }
      },
      "source": [
        "print(score)"
      ],
      "execution_count": 0,
      "outputs": [
        {
          "output_type": "stream",
          "text": [
            "[0.03563861697883403, 0.9894]\n"
          ],
          "name": "stdout"
        }
      ]
    },
    {
      "cell_type": "markdown",
      "metadata": {
        "id": "Vqk7rZOgBMlJ",
        "colab_type": "text"
      },
      "source": [
        "## i tried to run epochs 10 to see if at all it goes to 99 accuracy or not.but no improvment in accuracy - but it model start over fitting for both validation / training accuracy"
      ]
    },
    {
      "cell_type": "code",
      "metadata": {
        "id": "QbZGNOfl5voj",
        "colab_type": "code",
        "outputId": "147f3376-9ea3-4ba6-e413-6e7808de9ec0",
        "colab": {
          "base_uri": "https://localhost:8080/",
          "height": 773
        }
      },
      "source": [
        "model.fit(X_train, Y_train, batch_size=64, nb_epoch=20,validation_data=(X_test,Y_test), verbose=1)"
      ],
      "execution_count": 0,
      "outputs": [
        {
          "output_type": "stream",
          "text": [
            "Train on 60000 samples, validate on 10000 samples\n",
            "Epoch 1/20\n",
            " 1024/60000 [..............................] - ETA: 10s - loss: 0.0118 - acc: 0.9971"
          ],
          "name": "stdout"
        },
        {
          "output_type": "stream",
          "text": [
            "/usr/local/lib/python3.6/dist-packages/ipykernel_launcher.py:1: UserWarning: The `nb_epoch` argument in `fit` has been renamed `epochs`.\n",
            "  \"\"\"Entry point for launching an IPython kernel.\n"
          ],
          "name": "stderr"
        },
        {
          "output_type": "stream",
          "text": [
            "60000/60000 [==============================] - 11s 186us/step - loss: 0.0072 - acc: 0.9976 - val_loss: 0.0407 - val_acc: 0.9913\n",
            "Epoch 2/20\n",
            "60000/60000 [==============================] - 10s 174us/step - loss: 0.0065 - acc: 0.9978 - val_loss: 0.0420 - val_acc: 0.9906\n",
            "Epoch 3/20\n",
            "60000/60000 [==============================] - 10s 171us/step - loss: 0.0090 - acc: 0.9970 - val_loss: 0.0528 - val_acc: 0.9897\n",
            "Epoch 4/20\n",
            "60000/60000 [==============================] - 10s 171us/step - loss: 0.0064 - acc: 0.9979 - val_loss: 0.0518 - val_acc: 0.9895\n",
            "Epoch 5/20\n",
            "60000/60000 [==============================] - 10s 171us/step - loss: 0.0060 - acc: 0.9980 - val_loss: 0.0502 - val_acc: 0.9892\n",
            "Epoch 6/20\n",
            "60000/60000 [==============================] - 10s 172us/step - loss: 0.0062 - acc: 0.9980 - val_loss: 0.0496 - val_acc: 0.9909\n",
            "Epoch 7/20\n",
            "60000/60000 [==============================] - 11s 183us/step - loss: 0.0074 - acc: 0.9975 - val_loss: 0.0536 - val_acc: 0.9894\n",
            "Epoch 8/20\n",
            "60000/60000 [==============================] - 10s 172us/step - loss: 0.0052 - acc: 0.9983 - val_loss: 0.0417 - val_acc: 0.9914\n",
            "Epoch 9/20\n",
            "60000/60000 [==============================] - 11s 189us/step - loss: 0.0050 - acc: 0.9982 - val_loss: 0.0473 - val_acc: 0.9904\n",
            "Epoch 10/20\n",
            "60000/60000 [==============================] - 10s 171us/step - loss: 0.0066 - acc: 0.9979 - val_loss: 0.0497 - val_acc: 0.9908\n",
            "Epoch 11/20\n",
            "60000/60000 [==============================] - 10s 172us/step - loss: 0.0050 - acc: 0.9983 - val_loss: 0.0658 - val_acc: 0.9872\n",
            "Epoch 12/20\n",
            "60000/60000 [==============================] - 10s 171us/step - loss: 0.0066 - acc: 0.9978 - val_loss: 0.0576 - val_acc: 0.9887\n",
            "Epoch 13/20\n",
            "60000/60000 [==============================] - 10s 171us/step - loss: 0.0062 - acc: 0.9977 - val_loss: 0.0470 - val_acc: 0.9893\n",
            "Epoch 14/20\n",
            "60000/60000 [==============================] - 10s 171us/step - loss: 0.0055 - acc: 0.9979 - val_loss: 0.0465 - val_acc: 0.9904\n",
            "Epoch 15/20\n",
            "60000/60000 [==============================] - 10s 172us/step - loss: 0.0059 - acc: 0.9979 - val_loss: 0.0449 - val_acc: 0.9913\n",
            "Epoch 16/20\n",
            "60000/60000 [==============================] - 11s 179us/step - loss: 0.0058 - acc: 0.9983 - val_loss: 0.0490 - val_acc: 0.9906\n",
            "Epoch 17/20\n",
            "60000/60000 [==============================] - 11s 183us/step - loss: 0.0049 - acc: 0.9983 - val_loss: 0.0531 - val_acc: 0.9887\n",
            "Epoch 18/20\n",
            "60000/60000 [==============================] - 10s 172us/step - loss: 0.0060 - acc: 0.9979 - val_loss: 0.0470 - val_acc: 0.9910\n",
            "Epoch 19/20\n",
            "60000/60000 [==============================] - 10s 171us/step - loss: 0.0043 - acc: 0.9985 - val_loss: 0.0505 - val_acc: 0.9908\n",
            "Epoch 20/20\n",
            "60000/60000 [==============================] - 10s 171us/step - loss: 0.0045 - acc: 0.9986 - val_loss: 0.0603 - val_acc: 0.9896\n"
          ],
          "name": "stdout"
        },
        {
          "output_type": "execute_result",
          "data": {
            "text/plain": [
              "<keras.callbacks.History at 0x7f9ea0ae0dd8>"
            ]
          },
          "metadata": {
            "tags": []
          },
          "execution_count": 33
        }
      ]
    },
    {
      "cell_type": "code",
      "metadata": {
        "id": "iVf1rP5sA6nc",
        "colab_type": "code",
        "colab": {}
      },
      "source": [
        "score = model.evaluate(X_test, Y_test, verbose=0)"
      ],
      "execution_count": 0,
      "outputs": []
    },
    {
      "cell_type": "code",
      "metadata": {
        "id": "i3GIf7Es7cad",
        "colab_type": "code",
        "outputId": "5680a9fb-fc90-4e6e-f2bd-e8cca572c05c",
        "colab": {
          "base_uri": "https://localhost:8080/",
          "height": 33
        }
      },
      "source": [
        "print(score)"
      ],
      "execution_count": 0,
      "outputs": [
        {
          "output_type": "stream",
          "text": [
            "[0.060330295272241395, 0.9896]\n"
          ],
          "name": "stdout"
        }
      ]
    },
    {
      "cell_type": "code",
      "metadata": {
        "id": "AT2_ya54Cnpz",
        "colab_type": "code",
        "outputId": "681645f8-db8d-4f8b-c2e0-97c2bea19fa4",
        "colab": {
          "base_uri": "https://localhost:8080/",
          "height": 438
        }
      },
      "source": [
        "model.fit(X_train, Y_train, batch_size=128, nb_epoch=10,validation_data=(X_test,Y_test), verbose=1)"
      ],
      "execution_count": 0,
      "outputs": [
        {
          "output_type": "stream",
          "text": [
            "Train on 60000 samples, validate on 10000 samples\n",
            "Epoch 1/10\n",
            "  640/60000 [..............................] - ETA: 15s - loss: 0.0017 - acc: 0.9984"
          ],
          "name": "stdout"
        },
        {
          "output_type": "stream",
          "text": [
            "/usr/local/lib/python3.6/dist-packages/ipykernel_launcher.py:1: UserWarning: The `nb_epoch` argument in `fit` has been renamed `epochs`.\n",
            "  \"\"\"Entry point for launching an IPython kernel.\n"
          ],
          "name": "stderr"
        },
        {
          "output_type": "stream",
          "text": [
            "60000/60000 [==============================] - 6s 103us/step - loss: 8.9930e-04 - acc: 0.9998 - val_loss: 0.0465 - val_acc: 0.9914\n",
            "Epoch 2/10\n",
            "60000/60000 [==============================] - 6s 102us/step - loss: 3.6713e-04 - acc: 1.0000 - val_loss: 0.0468 - val_acc: 0.9919\n",
            "Epoch 3/10\n",
            "60000/60000 [==============================] - 6s 93us/step - loss: 2.2545e-04 - acc: 1.0000 - val_loss: 0.0473 - val_acc: 0.9919\n",
            "Epoch 4/10\n",
            "60000/60000 [==============================] - 6s 101us/step - loss: 1.7147e-04 - acc: 1.0000 - val_loss: 0.0465 - val_acc: 0.9925\n",
            "Epoch 5/10\n",
            "60000/60000 [==============================] - 6s 94us/step - loss: 1.8090e-04 - acc: 1.0000 - val_loss: 0.0500 - val_acc: 0.9920\n",
            "Epoch 6/10\n",
            "60000/60000 [==============================] - 5s 90us/step - loss: 0.0052 - acc: 0.9984 - val_loss: 0.0728 - val_acc: 0.9866\n",
            "Epoch 7/10\n",
            "60000/60000 [==============================] - 5s 91us/step - loss: 0.0056 - acc: 0.9981 - val_loss: 0.0523 - val_acc: 0.9902\n",
            "Epoch 8/10\n",
            "60000/60000 [==============================] - 5s 91us/step - loss: 9.5800e-04 - acc: 0.9997 - val_loss: 0.0485 - val_acc: 0.9920\n",
            "Epoch 9/10\n",
            "60000/60000 [==============================] - 5s 91us/step - loss: 3.4476e-04 - acc: 1.0000 - val_loss: 0.0502 - val_acc: 0.9920\n",
            "Epoch 10/10\n",
            "60000/60000 [==============================] - 5s 91us/step - loss: 1.3564e-04 - acc: 1.0000 - val_loss: 0.0519 - val_acc: 0.9913\n"
          ],
          "name": "stdout"
        },
        {
          "output_type": "execute_result",
          "data": {
            "text/plain": [
              "<keras.callbacks.History at 0x7f9e8573c3c8>"
            ]
          },
          "metadata": {
            "tags": []
          },
          "execution_count": 36
        }
      ]
    },
    {
      "cell_type": "markdown",
      "metadata": {
        "id": "y_RPKdlG7cFV",
        "colab_type": "text"
      },
      "source": [
        ""
      ]
    },
    {
      "cell_type": "code",
      "metadata": {
        "id": "OCWoJkwE9suh",
        "colab_type": "code",
        "colab": {}
      },
      "source": [
        "y_pred = model.predict(X_test)"
      ],
      "execution_count": 0,
      "outputs": []
    },
    {
      "cell_type": "code",
      "metadata": {
        "id": "Ym7iCFBm9uBs",
        "colab_type": "code",
        "outputId": "2768f0f9-7ec6-4311-83a9-ea66e66afb38",
        "colab": {
          "base_uri": "https://localhost:8080/",
          "height": 485
        }
      },
      "source": [
        "print(y_pred[:9])\n",
        "print(y_test[:9])"
      ],
      "execution_count": 0,
      "outputs": [
        {
          "output_type": "stream",
          "text": [
            "[[2.99050025e-36 2.08445877e-36 1.52746910e-27 2.21480862e-15\n",
            "  0.00000000e+00 2.42125006e-32 0.00000000e+00 1.00000000e+00\n",
            "  3.93387263e-24 2.87156194e-21]\n",
            " [1.06652788e-28 1.78258575e-28 1.00000000e+00 2.27230598e-26\n",
            "  0.00000000e+00 5.11957825e-37 4.78419271e-26 0.00000000e+00\n",
            "  4.19622143e-31 0.00000000e+00]\n",
            " [1.51047286e-14 1.00000000e+00 1.52135231e-11 1.07835682e-17\n",
            "  3.43494477e-08 5.98799566e-15 4.05138506e-16 1.32358525e-11\n",
            "  1.27361344e-10 3.52296306e-18]\n",
            " [1.00000000e+00 6.17263173e-38 6.54619589e-21 9.13494366e-33\n",
            "  9.97972929e-38 9.31880386e-27 1.08082448e-23 2.15645278e-27\n",
            "  1.37571699e-27 3.94730320e-28]\n",
            " [4.22286814e-28 2.91708279e-36 1.53899518e-22 1.29050431e-27\n",
            "  1.00000000e+00 5.55701272e-31 1.53520991e-26 3.01322090e-20\n",
            "  2.21571804e-18 2.42923517e-16]\n",
            " [5.03640858e-19 9.99999881e-01 2.23713127e-12 1.21150372e-18\n",
            "  1.53795165e-09 8.56842065e-21 5.28967785e-20 1.38699022e-07\n",
            "  3.47088663e-10 1.13864204e-16]\n",
            " [0.00000000e+00 1.67940884e-30 3.27429003e-16 1.27546310e-25\n",
            "  8.39987576e-01 9.70936083e-18 1.10149726e-29 2.00378597e-17\n",
            "  1.60012454e-01 8.18164807e-12]\n",
            " [0.00000000e+00 1.44120450e-21 5.90221261e-27 5.20454680e-22\n",
            "  7.27489155e-14 2.82476001e-19 0.00000000e+00 3.24072996e-26\n",
            "  1.43645422e-17 1.00000000e+00]\n",
            " [3.69794364e-21 0.00000000e+00 4.15675050e-32 2.50349663e-31\n",
            "  8.58842413e-24 9.99998689e-01 1.31738091e-06 0.00000000e+00\n",
            "  2.38989113e-13 1.15272939e-26]]\n",
            "[7 2 1 0 4 1 4 9 5]\n"
          ],
          "name": "stdout"
        }
      ]
    },
    {
      "cell_type": "code",
      "metadata": {
        "id": "CT--y98_dr2T",
        "colab_type": "code",
        "colab": {}
      },
      "source": [
        "layer_dict = dict([(layer.name, layer) for layer in model.layers])"
      ],
      "execution_count": 0,
      "outputs": []
    },
    {
      "cell_type": "code",
      "metadata": {
        "id": "2GY4Upv4dsUR",
        "colab_type": "code",
        "outputId": "95274f74-9574-4bd2-dcee-4973ec6ba59a",
        "colab": {
          "base_uri": "https://localhost:8080/",
          "height": 312
        }
      },
      "source": [
        "import numpy as np\n",
        "from matplotlib import pyplot as plt\n",
        "from keras import backend as K\n",
        "%matplotlib inline\n",
        "# util function to convert a tensor into a valid image\n",
        "def deprocess_image(x):\n",
        "    # normalize tensor: center on 0., ensure std is 0.1\n",
        "    x -= x.mean()\n",
        "    x /= (x.std() + 1e-5)\n",
        "    x *= 0.1\n",
        "\n",
        "    # clip to [0, 1]\n",
        "    x += 0.5\n",
        "    x = np.clip(x, 0, 1)\n",
        "\n",
        "    # convert to RGB array\n",
        "    x *= 255\n",
        "    #x = x.transpose((1, 2, 0))\n",
        "    x = np.clip(x, 0, 255).astype('uint8')\n",
        "    return x\n",
        "\n",
        "def vis_img_in_filter(img = np.array(X_train[2]).reshape((1, 28, 28, 1)).astype(np.float64), \n",
        "                      layer_name = 'conv2d_14'):\n",
        "    layer_output = layer_dict[layer_name].output\n",
        "    img_ascs = list()\n",
        "    for filter_index in range(layer_output.shape[3]):\n",
        "        # build a loss function that maximizes the activation\n",
        "        # of the nth filter of the layer considered\n",
        "        loss = K.mean(layer_output[:, :, :, filter_index])\n",
        "\n",
        "        # compute the gradient of the input picture wrt this loss\n",
        "        grads = K.gradients(loss, model.input)[0]\n",
        "\n",
        "        # normalization trick: we normalize the gradient\n",
        "        grads /= (K.sqrt(K.mean(K.square(grads))) + 1e-5)\n",
        "\n",
        "        # this function returns the loss and grads given the input picture\n",
        "        iterate = K.function([model.input], [loss, grads])\n",
        "\n",
        "        # step size for gradient ascent\n",
        "        step = 5.\n",
        "\n",
        "        img_asc = np.array(img)\n",
        "        # run gradient ascent for 20 steps\n",
        "        for i in range(20):\n",
        "            loss_value, grads_value = iterate([img_asc])\n",
        "            img_asc += grads_value * step\n",
        "\n",
        "        img_asc = img_asc[0]\n",
        "        img_ascs.append(deprocess_image(img_asc).reshape((28, 28)))\n",
        "        \n",
        "    if layer_output.shape[3] >= 35:\n",
        "        plot_x, plot_y = 6, 6\n",
        "    elif layer_output.shape[3] >= 23:\n",
        "        plot_x, plot_y = 4, 6\n",
        "    elif layer_output.shape[3] >= 11:\n",
        "        plot_x, plot_y = 2, 6\n",
        "    else:\n",
        "        plot_x, plot_y = 1, 2\n",
        "    fig, ax = plt.subplots(plot_x, plot_y, figsize = (12, 12))\n",
        "    ax[0, 0].imshow(img.reshape((28, 28)), cmap = 'gray')\n",
        "    ax[0, 0].set_title('Input image')\n",
        "    fig.suptitle('Input image and %s filters' % (layer_name,))\n",
        "    fig.tight_layout(pad = 0.3, rect = [0, 0, 0.9, 0.9])\n",
        "    for (x, y) in [(i, j) for i in range(plot_x) for j in range(plot_y)]:\n",
        "        if x == 0 and y == 0:\n",
        "            continue\n",
        "        ax[x, y].imshow(img_ascs[x * plot_y + y - 1], cmap = 'gray')\n",
        "        ax[x, y].set_title('filter %d' % (x * plot_y + y - 1))\n",
        "\n",
        "vis_img_in_filter()"
      ],
      "execution_count": 0,
      "outputs": [
        {
          "output_type": "error",
          "ename": "KeyError",
          "evalue": "ignored",
          "traceback": [
            "\u001b[0;31m---------------------------------------------------------------------------\u001b[0m",
            "\u001b[0;31mKeyError\u001b[0m                                  Traceback (most recent call last)",
            "\u001b[0;32m<ipython-input-55-19229f66b51a>\u001b[0m in \u001b[0;36m<module>\u001b[0;34m()\u001b[0m\n\u001b[1;32m     69\u001b[0m         \u001b[0max\u001b[0m\u001b[0;34m[\u001b[0m\u001b[0mx\u001b[0m\u001b[0;34m,\u001b[0m \u001b[0my\u001b[0m\u001b[0;34m]\u001b[0m\u001b[0;34m.\u001b[0m\u001b[0mset_title\u001b[0m\u001b[0;34m(\u001b[0m\u001b[0;34m'filter %d'\u001b[0m \u001b[0;34m%\u001b[0m \u001b[0;34m(\u001b[0m\u001b[0mx\u001b[0m \u001b[0;34m*\u001b[0m \u001b[0mplot_y\u001b[0m \u001b[0;34m+\u001b[0m \u001b[0my\u001b[0m \u001b[0;34m-\u001b[0m \u001b[0;36m1\u001b[0m\u001b[0;34m)\u001b[0m\u001b[0;34m)\u001b[0m\u001b[0;34m\u001b[0m\u001b[0;34m\u001b[0m\u001b[0m\n\u001b[1;32m     70\u001b[0m \u001b[0;34m\u001b[0m\u001b[0m\n\u001b[0;32m---> 71\u001b[0;31m \u001b[0mvis_img_in_filter\u001b[0m\u001b[0;34m(\u001b[0m\u001b[0;34m)\u001b[0m\u001b[0;34m\u001b[0m\u001b[0;34m\u001b[0m\u001b[0m\n\u001b[0m",
            "\u001b[0;32m<ipython-input-55-19229f66b51a>\u001b[0m in \u001b[0;36mvis_img_in_filter\u001b[0;34m(img, layer_name)\u001b[0m\n\u001b[1;32m     22\u001b[0m def vis_img_in_filter(img = np.array(X_train[2]).reshape((1, 28, 28, 1)).astype(np.float64), \n\u001b[1;32m     23\u001b[0m                       layer_name = 'conv2d_14'):\n\u001b[0;32m---> 24\u001b[0;31m     \u001b[0mlayer_output\u001b[0m \u001b[0;34m=\u001b[0m \u001b[0mlayer_dict\u001b[0m\u001b[0;34m[\u001b[0m\u001b[0mlayer_name\u001b[0m\u001b[0;34m]\u001b[0m\u001b[0;34m.\u001b[0m\u001b[0moutput\u001b[0m\u001b[0;34m\u001b[0m\u001b[0;34m\u001b[0m\u001b[0m\n\u001b[0m\u001b[1;32m     25\u001b[0m     \u001b[0mimg_ascs\u001b[0m \u001b[0;34m=\u001b[0m \u001b[0mlist\u001b[0m\u001b[0;34m(\u001b[0m\u001b[0;34m)\u001b[0m\u001b[0;34m\u001b[0m\u001b[0;34m\u001b[0m\u001b[0m\n\u001b[1;32m     26\u001b[0m     \u001b[0;32mfor\u001b[0m \u001b[0mfilter_index\u001b[0m \u001b[0;32min\u001b[0m \u001b[0mrange\u001b[0m\u001b[0;34m(\u001b[0m\u001b[0mlayer_output\u001b[0m\u001b[0;34m.\u001b[0m\u001b[0mshape\u001b[0m\u001b[0;34m[\u001b[0m\u001b[0;36m3\u001b[0m\u001b[0;34m]\u001b[0m\u001b[0;34m)\u001b[0m\u001b[0;34m:\u001b[0m\u001b[0;34m\u001b[0m\u001b[0;34m\u001b[0m\u001b[0m\n",
            "\u001b[0;31mKeyError\u001b[0m: 'conv2d_14'"
          ]
        }
      ]
    },
    {
      "cell_type": "code",
      "metadata": {
        "id": "9tvptcn8dxvp",
        "colab_type": "code",
        "colab": {}
      },
      "source": [
        ""
      ],
      "execution_count": 0,
      "outputs": []
    }
  ]
}