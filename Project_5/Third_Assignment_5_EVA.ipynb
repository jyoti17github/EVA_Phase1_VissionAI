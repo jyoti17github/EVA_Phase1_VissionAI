{
  "nbformat": 4,
  "nbformat_minor": 0,
  "metadata": {
    "colab": {
      "name": "Third_Assignment_5_EVA.ipynb",
      "version": "0.3.2",
      "provenance": [],
      "collapsed_sections": []
    },
    "kernelspec": {
      "name": "python3",
      "display_name": "Python 3"
    },
    "accelerator": "GPU"
  },
  "cells": [
    {
      "cell_type": "markdown",
      "metadata": {
        "id": "FDeuFNq2CBHO",
        "colab_type": "text"
      },
      "source": [
        "# Relu before BN and generated missclassifield images. \n",
        "## Used my own network of Assignmnet 4 ( 8372 parameters with 9948 accuracy)\n",
        "### Observation - accuracy decreased  by 1 percent.\n",
        "\n"
      ]
    },
    {
      "cell_type": "markdown",
      "metadata": {
        "id": "aNyZv-Ec52ot",
        "colab_type": "text"
      },
      "source": [
        "# **Import Libraries and modules**"
      ]
    },
    {
      "cell_type": "code",
      "metadata": {
        "id": "3m3w1Cw49Zkt",
        "colab_type": "code",
        "colab": {}
      },
      "source": [
        "# https://keras.io/\n",
        "!pip install -q keras\n",
        "import keras\n",
        "from keras import regularizers"
      ],
      "execution_count": 0,
      "outputs": []
    },
    {
      "cell_type": "code",
      "metadata": {
        "id": "Eso6UHE080D4",
        "colab_type": "code",
        "colab": {}
      },
      "source": [
        "import numpy as np\n",
        "\n",
        "from keras.models import Sequential\n",
        "from keras.layers import Dense, Dropout, Activation, Flatten, Add, BatchNormalization\n",
        "from keras.layers import Convolution2D, MaxPooling2D\n",
        "from keras.utils import np_utils\n",
        "from matplotlib import pyplot\n",
        "from keras.datasets import mnist"
      ],
      "execution_count": 0,
      "outputs": []
    },
    {
      "cell_type": "markdown",
      "metadata": {
        "id": "zByEi95J86RD",
        "colab_type": "text"
      },
      "source": [
        "### Load pre-shuffled MNIST data into train and test sets and APPLy Image normalization"
      ]
    },
    {
      "cell_type": "code",
      "metadata": {
        "id": "J-jwdi7iejmv",
        "colab_type": "code",
        "colab": {}
      },
      "source": [
        "# example of standardizing a image dataset\n",
        "from keras.datasets import mnist\n",
        "from keras.preprocessing.image import ImageDataGenerator\n",
        "# load dataset\n",
        "(trainX, trainy), (testX, testy) = mnist.load_data()\n",
        "# reshape dataset to have a single channel\n",
        "width, height, channels = trainX.shape[1], trainX.shape[2], 1\n",
        "trainX = trainX.reshape((trainX.shape[0], width, height, channels))\n",
        "testX = testX.reshape((testX.shape[0], width, height, channels))\n",
        "# image normalization using Image generator\n",
        "datagen = ImageDataGenerator(featurewise_center=True, featurewise_std_normalization=True)"
      ],
      "execution_count": 0,
      "outputs": []
    },
    {
      "cell_type": "code",
      "metadata": {
        "id": "0Mn0vAYD9DvB",
        "colab_type": "code",
        "outputId": "76901205-d0ef-4447-f37c-83302990511e",
        "colab": {
          "base_uri": "https://localhost:8080/",
          "height": 33
        }
      },
      "source": [
        "trainy[:10]"
      ],
      "execution_count": 72,
      "outputs": [
        {
          "output_type": "execute_result",
          "data": {
            "text/plain": [
              "array([5, 0, 4, 1, 9, 2, 1, 3, 1, 4], dtype=uint8)"
            ]
          },
          "metadata": {
            "tags": []
          },
          "execution_count": 72
        }
      ]
    },
    {
      "cell_type": "code",
      "metadata": {
        "id": "ZG8JiXR39FHC",
        "colab_type": "code",
        "colab": {}
      },
      "source": [
        "# Convert 1-dimensional class arrays to 10-dimensional class matrices\n",
        "trainy = np_utils.to_categorical(trainy, 10)\n",
        "testy = np_utils.to_categorical(testy, 10)"
      ],
      "execution_count": 0,
      "outputs": []
    },
    {
      "cell_type": "code",
      "metadata": {
        "id": "fYlFRvKS9HMB",
        "colab_type": "code",
        "outputId": "3a7a3a67-dfbc-4688-8bdb-f13bb4024dba",
        "colab": {
          "base_uri": "https://localhost:8080/",
          "height": 184
        }
      },
      "source": [
        "trainy[:10]\n"
      ],
      "execution_count": 74,
      "outputs": [
        {
          "output_type": "execute_result",
          "data": {
            "text/plain": [
              "array([[0., 0., 0., 0., 0., 1., 0., 0., 0., 0.],\n",
              "       [1., 0., 0., 0., 0., 0., 0., 0., 0., 0.],\n",
              "       [0., 0., 0., 0., 1., 0., 0., 0., 0., 0.],\n",
              "       [0., 1., 0., 0., 0., 0., 0., 0., 0., 0.],\n",
              "       [0., 0., 0., 0., 0., 0., 0., 0., 0., 1.],\n",
              "       [0., 0., 1., 0., 0., 0., 0., 0., 0., 0.],\n",
              "       [0., 1., 0., 0., 0., 0., 0., 0., 0., 0.],\n",
              "       [0., 0., 0., 1., 0., 0., 0., 0., 0., 0.],\n",
              "       [0., 1., 0., 0., 0., 0., 0., 0., 0., 0.],\n",
              "       [0., 0., 0., 0., 1., 0., 0., 0., 0., 0.]], dtype=float32)"
            ]
          },
          "metadata": {
            "tags": []
          },
          "execution_count": 74
        }
      ]
    },
    {
      "cell_type": "markdown",
      "metadata": {
        "id": "oiX_1KmDzMZe",
        "colab_type": "text"
      },
      "source": [
        "### RELu after BN\n",
        "\n",
        "\n"
      ]
    },
    {
      "cell_type": "code",
      "metadata": {
        "id": "osKqT73Q9JJB",
        "colab_type": "code",
        "outputId": "e7dd04e6-cced-49e4-e466-b0499a999ab4",
        "colab": {
          "base_uri": "https://localhost:8080/",
          "height": 1258
        }
      },
      "source": [
        "from keras.layers import Activation\n",
        "model = Sequential()\n",
        "\n",
        " \n",
        "model.add(Convolution2D(10, 3, 3, name ='FirstLayer', input_shape=(28,28,1))) # RF 3x3\n",
        "model.add(BatchNormalization())\n",
        "model.add(Activation('relu'))\n",
        "model.add(Dropout(0.1))\n",
        "\n",
        "model.add(Convolution2D(12, 3, 3, name ='SecondLayer', kernel_regularizer=regularizers.l2(0.01))) # RF 5x5\n",
        "model.add(BatchNormalization())\n",
        "model.add(Activation('relu'))\n",
        "model.add(Dropout(0.2))\n",
        "\n",
        "model.add(Convolution2D(14, 3, 3, name ='ThirdLayer', kernel_regularizer=regularizers.l2(0.01))) # RF 7x7\n",
        "model.add(BatchNormalization())\n",
        "model.add(Activation('relu'))\n",
        "model.add(MaxPooling2D(pool_size=(2, 2))) # RF 14x14\n",
        "model.add(Dropout(0.1))\n",
        "\n",
        "model.add(Convolution2D(10, 3))\n",
        "model.add(BatchNormalization())\n",
        "model.add(Activation('relu'))\n",
        "model.add(Convolution2D(12, 3, 3, name ='fourthThirdLayer', kernel_regularizer=regularizers.l2(0.01)))\n",
        "model.add(BatchNormalization())\n",
        "model.add(Activation('relu'))\n",
        "\n",
        "model.add(Dropout(0.25))\n",
        "\n",
        "model.add(Convolution2D(10, 3, 3, name ='FifthLayer', kernel_regularizer=regularizers.l2(0.01)))\n",
        "model.add(BatchNormalization())\n",
        "model.add(Activation('relu'))\n",
        "\n",
        "model.add(Convolution2D(10, 3, 3, activation='relu' , name ='SixthLayer', kernel_regularizer=regularizers.l2(0.01)))\n",
        "model.add(Convolution2D(10, 3, 3, activation='relu' , name ='SeventhLayer', kernel_regularizer=regularizers.l2(0.01)))\n",
        "\n",
        "model.add(Convolution2D(10, 1))#2\n",
        "\n",
        "model.add(Flatten())\n",
        "model.add(Activation('softmax'))\n",
        "model.summary()"
      ],
      "execution_count": 75,
      "outputs": [
        {
          "output_type": "stream",
          "text": [
            "/usr/local/lib/python3.6/dist-packages/ipykernel_launcher.py:5: UserWarning: Update your `Conv2D` call to the Keras 2 API: `Conv2D(10, (3, 3), name=\"FirstLayer\", input_shape=(28, 28, 1...)`\n",
            "  \"\"\"\n",
            "/usr/local/lib/python3.6/dist-packages/ipykernel_launcher.py:10: UserWarning: Update your `Conv2D` call to the Keras 2 API: `Conv2D(12, (3, 3), name=\"SecondLayer\", kernel_regularizer=<keras.reg...)`\n",
            "  # Remove the CWD from sys.path while we load stuff.\n",
            "/usr/local/lib/python3.6/dist-packages/ipykernel_launcher.py:15: UserWarning: Update your `Conv2D` call to the Keras 2 API: `Conv2D(14, (3, 3), name=\"ThirdLayer\", kernel_regularizer=<keras.reg...)`\n",
            "  from ipykernel import kernelapp as app\n",
            "/usr/local/lib/python3.6/dist-packages/ipykernel_launcher.py:24: UserWarning: Update your `Conv2D` call to the Keras 2 API: `Conv2D(12, (3, 3), name=\"fourthThirdLayer\", kernel_regularizer=<keras.reg...)`\n",
            "/usr/local/lib/python3.6/dist-packages/ipykernel_launcher.py:30: UserWarning: Update your `Conv2D` call to the Keras 2 API: `Conv2D(10, (3, 3), name=\"FifthLayer\", kernel_regularizer=<keras.reg...)`\n"
          ],
          "name": "stderr"
        },
        {
          "output_type": "stream",
          "text": [
            "_________________________________________________________________\n",
            "Layer (type)                 Output Shape              Param #   \n",
            "=================================================================\n",
            "FirstLayer (Conv2D)          (None, 26, 26, 10)        100       \n",
            "_________________________________________________________________\n",
            "batch_normalization_22 (Batc (None, 26, 26, 10)        40        \n",
            "_________________________________________________________________\n",
            "activation_22 (Activation)   (None, 26, 26, 10)        0         \n",
            "_________________________________________________________________\n",
            "dropout_17 (Dropout)         (None, 26, 26, 10)        0         \n",
            "_________________________________________________________________\n",
            "SecondLayer (Conv2D)         (None, 24, 24, 12)        1092      \n",
            "_________________________________________________________________\n",
            "batch_normalization_23 (Batc (None, 24, 24, 12)        48        \n",
            "_________________________________________________________________\n",
            "activation_23 (Activation)   (None, 24, 24, 12)        0         \n",
            "_________________________________________________________________\n",
            "dropout_18 (Dropout)         (None, 24, 24, 12)        0         \n",
            "_________________________________________________________________\n",
            "ThirdLayer (Conv2D)          (None, 22, 22, 14)        1526      \n",
            "_________________________________________________________________\n",
            "batch_normalization_24 (Batc (None, 22, 22, 14)        56        \n",
            "_________________________________________________________________\n",
            "activation_24 (Activation)   (None, 22, 22, 14)        0         \n",
            "_________________________________________________________________\n",
            "max_pooling2d_5 (MaxPooling2 (None, 11, 11, 14)        0         \n",
            "_________________________________________________________________\n",
            "dropout_19 (Dropout)         (None, 11, 11, 14)        0         \n",
            "_________________________________________________________________\n",
            "conv2d_9 (Conv2D)            (None, 9, 9, 10)          1270      \n",
            "_________________________________________________________________\n",
            "batch_normalization_25 (Batc (None, 9, 9, 10)          40        \n",
            "_________________________________________________________________\n",
            "activation_25 (Activation)   (None, 9, 9, 10)          0         \n",
            "_________________________________________________________________\n",
            "fourthThirdLayer (Conv2D)    (None, 7, 7, 12)          1092      \n",
            "_________________________________________________________________\n",
            "batch_normalization_26 (Batc (None, 7, 7, 12)          48        \n",
            "_________________________________________________________________\n",
            "activation_26 (Activation)   (None, 7, 7, 12)          0         \n",
            "_________________________________________________________________\n",
            "dropout_20 (Dropout)         (None, 7, 7, 12)          0         \n",
            "_________________________________________________________________\n",
            "FifthLayer (Conv2D)          (None, 5, 5, 10)          1090      \n",
            "_________________________________________________________________\n",
            "batch_normalization_27 (Batc (None, 5, 5, 10)          40        \n",
            "_________________________________________________________________\n",
            "activation_27 (Activation)   (None, 5, 5, 10)          0         \n",
            "_________________________________________________________________\n",
            "SixthLayer (Conv2D)          (None, 3, 3, 10)          910       \n",
            "_________________________________________________________________\n",
            "SeventhLayer (Conv2D)        (None, 1, 1, 10)          910       \n",
            "_________________________________________________________________\n",
            "conv2d_10 (Conv2D)           (None, 1, 1, 10)          110       \n",
            "_________________________________________________________________\n",
            "flatten_5 (Flatten)          (None, 10)                0         \n",
            "_________________________________________________________________\n",
            "activation_28 (Activation)   (None, 10)                0         \n",
            "=================================================================\n",
            "Total params: 8,372\n",
            "Trainable params: 8,236\n",
            "Non-trainable params: 136\n",
            "_________________________________________________________________\n"
          ],
          "name": "stdout"
        },
        {
          "output_type": "stream",
          "text": [
            "/usr/local/lib/python3.6/dist-packages/ipykernel_launcher.py:34: UserWarning: Update your `Conv2D` call to the Keras 2 API: `Conv2D(10, (3, 3), activation=\"relu\", name=\"SixthLayer\", kernel_regularizer=<keras.reg...)`\n",
            "/usr/local/lib/python3.6/dist-packages/ipykernel_launcher.py:35: UserWarning: Update your `Conv2D` call to the Keras 2 API: `Conv2D(10, (3, 3), activation=\"relu\", name=\"SeventhLayer\", kernel_regularizer=<keras.reg...)`\n"
          ],
          "name": "stderr"
        }
      ]
    },
    {
      "cell_type": "code",
      "metadata": {
        "id": "Zp6SuGrL9M3h",
        "colab_type": "code",
        "colab": {}
      },
      "source": [
        "from keras.optimizers import Adam\n",
        "from keras.callbacks import LearningRateScheduler ,ModelCheckpoint\n",
        "def scheduler(epoch, lr):\n",
        "  return round(0.003 * 1/(1 + 0.319 * epoch), 10)\n",
        "\n",
        "model.compile(loss='categorical_crossentropy', optimizer=Adam(lr=0.003), metrics=['accuracy'])"
      ],
      "execution_count": 0,
      "outputs": []
    },
    {
      "cell_type": "code",
      "metadata": {
        "id": "1UW-SvjCsmSD",
        "colab_type": "code",
        "outputId": "ac7351c9-3930-4185-d733-826c0c15b9ca",
        "colab": {
          "base_uri": "https://localhost:8080/",
          "height": 2797
        }
      },
      "source": [
        "epochs = 40\n",
        "checkpoint = keras.callbacks.ModelCheckpoint('Best_Model_EVA_Asgn_5.hdf5', monitor='val_loss', verbose=0, save_best_only=True, save_weights_only=False, mode='auto')\n",
        "\n",
        "model.fit_generator(\n",
        "        datagen.flow(trainX, trainy, batch_size =128 , shuffle=True),\n",
        "        steps_per_epoch=int(np.ceil(len(trainX)/128)), \n",
        "        epochs = epochs, \n",
        "        validation_data=(testX, testy),\n",
        "        validation_steps = int(np.ceil(len(testX)/128)),\n",
        "        callbacks=[checkpoint, LearningRateScheduler(scheduler, verbose=1)],\n",
        "        verbose=1)"
      ],
      "execution_count": 77,
      "outputs": [
        {
          "output_type": "stream",
          "text": [
            "Epoch 1/40\n"
          ],
          "name": "stdout"
        },
        {
          "output_type": "stream",
          "text": [
            "/usr/local/lib/python3.6/dist-packages/keras_preprocessing/image/image_data_generator.py:699: UserWarning: This ImageDataGenerator specifies `featurewise_center`, but it hasn't been fit on any training data. Fit it first by calling `.fit(numpy_data)`.\n",
            "  warnings.warn('This ImageDataGenerator specifies '\n",
            "/usr/local/lib/python3.6/dist-packages/keras_preprocessing/image/image_data_generator.py:707: UserWarning: This ImageDataGenerator specifies `featurewise_std_normalization`, but it hasn't been fit on any training data. Fit it first by calling `.fit(numpy_data)`.\n",
            "  warnings.warn('This ImageDataGenerator specifies '\n"
          ],
          "name": "stderr"
        },
        {
          "output_type": "stream",
          "text": [
            "\n",
            "Epoch 00001: LearningRateScheduler setting learning rate to 0.003.\n",
            "469/469 [==============================] - 12s 26ms/step - loss: 0.6825 - acc: 0.8679 - val_loss: 0.2914 - val_acc: 0.9615\n",
            "Epoch 2/40\n",
            "\n",
            "Epoch 00002: LearningRateScheduler setting learning rate to 0.0022744503.\n",
            "469/469 [==============================] - 7s 15ms/step - loss: 0.2312 - acc: 0.9677 - val_loss: 0.2005 - val_acc: 0.9728\n",
            "Epoch 3/40\n",
            "\n",
            "Epoch 00003: LearningRateScheduler setting learning rate to 0.0018315018.\n",
            "469/469 [==============================] - 7s 15ms/step - loss: 0.1854 - acc: 0.9733 - val_loss: 0.1696 - val_acc: 0.9745\n",
            "Epoch 4/40\n",
            "\n",
            "Epoch 00004: LearningRateScheduler setting learning rate to 0.0015329586.\n",
            "469/469 [==============================] - 7s 15ms/step - loss: 0.1595 - acc: 0.9768 - val_loss: 0.1868 - val_acc: 0.9664\n",
            "Epoch 5/40\n",
            "\n",
            "Epoch 00005: LearningRateScheduler setting learning rate to 0.0013181019.\n",
            "469/469 [==============================] - 7s 15ms/step - loss: 0.1479 - acc: 0.9784 - val_loss: 0.1168 - val_acc: 0.9858\n",
            "Epoch 6/40\n",
            "\n",
            "Epoch 00006: LearningRateScheduler setting learning rate to 0.0011560694.\n",
            "469/469 [==============================] - 7s 15ms/step - loss: 0.1383 - acc: 0.9790 - val_loss: 0.1219 - val_acc: 0.9835\n",
            "Epoch 7/40\n",
            "\n",
            "Epoch 00007: LearningRateScheduler setting learning rate to 0.0010295127.\n",
            "469/469 [==============================] - 7s 15ms/step - loss: 0.1255 - acc: 0.9815 - val_loss: 0.1109 - val_acc: 0.9862\n",
            "Epoch 8/40\n",
            "\n",
            "Epoch 00008: LearningRateScheduler setting learning rate to 0.0009279307.\n",
            "469/469 [==============================] - 7s 15ms/step - loss: 0.1224 - acc: 0.9809 - val_loss: 0.1153 - val_acc: 0.9834\n",
            "Epoch 9/40\n",
            "\n",
            "Epoch 00009: LearningRateScheduler setting learning rate to 0.0008445946.\n",
            "469/469 [==============================] - 7s 15ms/step - loss: 0.1135 - acc: 0.9829 - val_loss: 0.1027 - val_acc: 0.9853\n",
            "Epoch 10/40\n",
            "\n",
            "Epoch 00010: LearningRateScheduler setting learning rate to 0.0007749935.\n",
            "469/469 [==============================] - 7s 15ms/step - loss: 0.1098 - acc: 0.9835 - val_loss: 0.0965 - val_acc: 0.9873\n",
            "Epoch 11/40\n",
            "\n",
            "Epoch 00011: LearningRateScheduler setting learning rate to 0.0007159905.\n",
            "469/469 [==============================] - 7s 15ms/step - loss: 0.1051 - acc: 0.9843 - val_loss: 0.0919 - val_acc: 0.9876\n",
            "Epoch 12/40\n",
            "\n",
            "Epoch 00012: LearningRateScheduler setting learning rate to 0.000665336.\n",
            "469/469 [==============================] - 7s 15ms/step - loss: 0.1011 - acc: 0.9846 - val_loss: 0.1012 - val_acc: 0.9840\n",
            "Epoch 13/40\n",
            "\n",
            "Epoch 00013: LearningRateScheduler setting learning rate to 0.0006213753.\n",
            "469/469 [==============================] - 7s 16ms/step - loss: 0.1002 - acc: 0.9840 - val_loss: 0.0831 - val_acc: 0.9881\n",
            "Epoch 14/40\n",
            "\n",
            "Epoch 00014: LearningRateScheduler setting learning rate to 0.0005828638.\n",
            "469/469 [==============================] - 7s 15ms/step - loss: 0.0944 - acc: 0.9851 - val_loss: 0.0792 - val_acc: 0.9892\n",
            "Epoch 15/40\n",
            "\n",
            "Epoch 00015: LearningRateScheduler setting learning rate to 0.0005488474.\n",
            "469/469 [==============================] - 7s 15ms/step - loss: 0.0922 - acc: 0.9858 - val_loss: 0.0810 - val_acc: 0.9876\n",
            "Epoch 16/40\n",
            "\n",
            "Epoch 00016: LearningRateScheduler setting learning rate to 0.0005185825.\n",
            "469/469 [==============================] - 7s 16ms/step - loss: 0.0891 - acc: 0.9858 - val_loss: 0.0725 - val_acc: 0.9911\n",
            "Epoch 17/40\n",
            "\n",
            "Epoch 00017: LearningRateScheduler setting learning rate to 0.000491481.\n",
            "469/469 [==============================] - 7s 15ms/step - loss: 0.0866 - acc: 0.9865 - val_loss: 0.0729 - val_acc: 0.9899\n",
            "Epoch 18/40\n",
            "\n",
            "Epoch 00018: LearningRateScheduler setting learning rate to 0.0004670715.\n",
            "469/469 [==============================] - 7s 15ms/step - loss: 0.0862 - acc: 0.9861 - val_loss: 0.0723 - val_acc: 0.9893\n",
            "Epoch 19/40\n",
            "\n",
            "Epoch 00019: LearningRateScheduler setting learning rate to 0.0004449718.\n",
            "469/469 [==============================] - 7s 15ms/step - loss: 0.0851 - acc: 0.9859 - val_loss: 0.0720 - val_acc: 0.9901\n",
            "Epoch 20/40\n",
            "\n",
            "Epoch 00020: LearningRateScheduler setting learning rate to 0.000424869.\n",
            "469/469 [==============================] - 7s 15ms/step - loss: 0.0809 - acc: 0.9872 - val_loss: 0.0634 - val_acc: 0.9926\n",
            "Epoch 21/40\n",
            "\n",
            "Epoch 00021: LearningRateScheduler setting learning rate to 0.0004065041.\n",
            "469/469 [==============================] - 7s 15ms/step - loss: 0.0801 - acc: 0.9879 - val_loss: 0.0694 - val_acc: 0.9899\n",
            "Epoch 22/40\n",
            "\n",
            "Epoch 00022: LearningRateScheduler setting learning rate to 0.000389661.\n",
            "469/469 [==============================] - 7s 15ms/step - loss: 0.0776 - acc: 0.9882 - val_loss: 0.0698 - val_acc: 0.9899\n",
            "Epoch 23/40\n",
            "\n",
            "Epoch 00023: LearningRateScheduler setting learning rate to 0.0003741581.\n",
            "469/469 [==============================] - 7s 15ms/step - loss: 0.0790 - acc: 0.9871 - val_loss: 0.0633 - val_acc: 0.9916\n",
            "Epoch 24/40\n",
            "\n",
            "Epoch 00024: LearningRateScheduler setting learning rate to 0.0003598417.\n",
            "469/469 [==============================] - 7s 15ms/step - loss: 0.0761 - acc: 0.9877 - val_loss: 0.0636 - val_acc: 0.9909\n",
            "Epoch 25/40\n",
            "\n",
            "Epoch 00025: LearningRateScheduler setting learning rate to 0.0003465804.\n",
            "469/469 [==============================] - 7s 15ms/step - loss: 0.0752 - acc: 0.9880 - val_loss: 0.0634 - val_acc: 0.9905\n",
            "Epoch 26/40\n",
            "\n",
            "Epoch 00026: LearningRateScheduler setting learning rate to 0.0003342618.\n",
            "469/469 [==============================] - 7s 15ms/step - loss: 0.0736 - acc: 0.9883 - val_loss: 0.0666 - val_acc: 0.9900\n",
            "Epoch 27/40\n",
            "\n",
            "Epoch 00027: LearningRateScheduler setting learning rate to 0.0003227889.\n",
            "469/469 [==============================] - 7s 15ms/step - loss: 0.0716 - acc: 0.9882 - val_loss: 0.0608 - val_acc: 0.9912\n",
            "Epoch 28/40\n",
            "\n",
            "Epoch 00028: LearningRateScheduler setting learning rate to 0.0003120774.\n",
            "469/469 [==============================] - 7s 15ms/step - loss: 0.0727 - acc: 0.9880 - val_loss: 0.0599 - val_acc: 0.9912\n",
            "Epoch 29/40\n",
            "\n",
            "Epoch 00029: LearningRateScheduler setting learning rate to 0.000302054.\n",
            "469/469 [==============================] - 7s 15ms/step - loss: 0.0718 - acc: 0.9882 - val_loss: 0.0589 - val_acc: 0.9920\n",
            "Epoch 30/40\n",
            "\n",
            "Epoch 00030: LearningRateScheduler setting learning rate to 0.0002926544.\n",
            "469/469 [==============================] - 7s 15ms/step - loss: 0.0696 - acc: 0.9884 - val_loss: 0.0576 - val_acc: 0.9923\n",
            "Epoch 31/40\n",
            "\n",
            "Epoch 00031: LearningRateScheduler setting learning rate to 0.0002838221.\n",
            "469/469 [==============================] - 7s 15ms/step - loss: 0.0697 - acc: 0.9884 - val_loss: 0.0568 - val_acc: 0.9927\n",
            "Epoch 32/40\n",
            "\n",
            "Epoch 00032: LearningRateScheduler setting learning rate to 0.0002755074.\n",
            "469/469 [==============================] - 7s 15ms/step - loss: 0.0676 - acc: 0.9892 - val_loss: 0.0605 - val_acc: 0.9916\n",
            "Epoch 33/40\n",
            "\n",
            "Epoch 00033: LearningRateScheduler setting learning rate to 0.000267666.\n",
            "469/469 [==============================] - 7s 15ms/step - loss: 0.0668 - acc: 0.9898 - val_loss: 0.0566 - val_acc: 0.9926\n",
            "Epoch 34/40\n",
            "\n",
            "Epoch 00034: LearningRateScheduler setting learning rate to 0.0002602585.\n",
            "469/469 [==============================] - 7s 15ms/step - loss: 0.0669 - acc: 0.9890 - val_loss: 0.0546 - val_acc: 0.9925\n",
            "Epoch 35/40\n",
            "\n",
            "Epoch 00035: LearningRateScheduler setting learning rate to 0.00025325.\n",
            "469/469 [==============================] - 7s 15ms/step - loss: 0.0663 - acc: 0.9890 - val_loss: 0.0555 - val_acc: 0.9918\n",
            "Epoch 36/40\n",
            "\n",
            "Epoch 00036: LearningRateScheduler setting learning rate to 0.0002466091.\n",
            "469/469 [==============================] - 7s 15ms/step - loss: 0.0660 - acc: 0.9893 - val_loss: 0.0548 - val_acc: 0.9923\n",
            "Epoch 37/40\n",
            "\n",
            "Epoch 00037: LearningRateScheduler setting learning rate to 0.0002403076.\n",
            "469/469 [==============================] - 7s 15ms/step - loss: 0.0664 - acc: 0.9888 - val_loss: 0.0573 - val_acc: 0.9909\n",
            "Epoch 38/40\n",
            "\n",
            "Epoch 00038: LearningRateScheduler setting learning rate to 0.0002343201.\n",
            "469/469 [==============================] - 7s 15ms/step - loss: 0.0649 - acc: 0.9893 - val_loss: 0.0538 - val_acc: 0.9929\n",
            "Epoch 39/40\n",
            "\n",
            "Epoch 00039: LearningRateScheduler setting learning rate to 0.0002286237.\n",
            "469/469 [==============================] - 7s 15ms/step - loss: 0.0644 - acc: 0.9893 - val_loss: 0.0541 - val_acc: 0.9920\n",
            "Epoch 40/40\n",
            "\n",
            "Epoch 00040: LearningRateScheduler setting learning rate to 0.0002231977.\n",
            "469/469 [==============================] - 7s 15ms/step - loss: 0.0619 - acc: 0.9899 - val_loss: 0.0521 - val_acc: 0.9929\n"
          ],
          "name": "stdout"
        },
        {
          "output_type": "execute_result",
          "data": {
            "text/plain": [
              "<keras.callbacks.History at 0x7f0d902b6518>"
            ]
          },
          "metadata": {
            "tags": []
          },
          "execution_count": 77
        }
      ]
    },
    {
      "cell_type": "code",
      "metadata": {
        "id": "ahmsNIIPHy6F",
        "colab_type": "code",
        "colab": {
          "base_uri": "https://localhost:8080/",
          "height": 33
        },
        "outputId": "42106119-2359-4036-b7af-4e3196c9a675"
      },
      "source": [
        "model_new = load_model('Best_Model_EVA_Asgn_5.hdf5')\n",
        "score = model_new.evaluate(testX, testy, verbose=0)\n",
        "print(score)"
      ],
      "execution_count": 78,
      "outputs": [
        {
          "output_type": "stream",
          "text": [
            "[0.05210519856214523, 0.9929]\n"
          ],
          "name": "stdout"
        }
      ]
    },
    {
      "cell_type": "code",
      "metadata": {
        "id": "hq3jndxoRlAO",
        "colab_type": "code",
        "colab": {}
      },
      "source": [
        "y_pred = model.predict(testX)"
      ],
      "execution_count": 0,
      "outputs": []
    },
    {
      "cell_type": "code",
      "metadata": {
        "id": "qFhMmmVxSDRG",
        "colab_type": "code",
        "colab": {}
      },
      "source": [
        "from matplotlib import pyplot as plt"
      ],
      "execution_count": 0,
      "outputs": []
    },
    {
      "cell_type": "code",
      "metadata": {
        "id": "9Gdmyp1CIUMs",
        "colab_type": "code",
        "colab": {}
      },
      "source": [
        "# function for plotting misclassified images \n",
        "def misclassified_images(X, Y, Y_pred, classes,columns=5,total=25,pick_randomly=True, image_size_multiplier=4):\n",
        "    y_true = np.argmax(Y, axis=1)\n",
        "    yp = np.argmax(Y_pred, axis=1)\n",
        "    misclassified = y_true != yp\n",
        "    X = X[misclassified]\n",
        "    Y = Y[misclassified]\n",
        "    Y_pred = Y_pred[misclassified]\n",
        "    y_true = y_true[misclassified]\n",
        "    yp = yp[misclassified]\n",
        "    total = min(total, len(X))\n",
        "    rows = int(np.ceil(total / columns))\n",
        "    indexes = np.random.choice(len(X), total, replace=False) if pick_randomly else list(range(0, total))\n",
        "    X = np.take(X, indexes, axis=0)\n",
        "    Y = np.take(Y, indexes, axis=0)\n",
        "    Y_pred = np.take(Y_pred, indexes, axis=0)\n",
        "    y_true = np.take(y_true, indexes, axis=0)\n",
        "    yp = np.take(yp, indexes, axis=0)\n",
        "    fig_height = rows * image_size_multiplier * 2\n",
        "    fig_width = columns * image_size_multiplier\n",
        "    fig = plt.figure(figsize=(fig_width, fig_height))\n",
        "    idx1 = 0\n",
        "    idx2 = 0\n",
        "    jdx = 0\n",
        "    for row in range(rows):\n",
        "        for column in range(columns):\n",
        "            if idx1 >= len(X):\n",
        "                break\n",
        "            img = X[idx1]\n",
        "            assert (len(img.shape) == 3 and img.shape[2] in [1, 3, 4]) or len(img.shape) == 2\n",
        "            ax = fig.add_subplot(rows * 2, columns, jdx + 1, xticks=[], yticks=[])\n",
        "            cmap = None\n",
        "            if (len(img.shape) == 3 and img.shape[2] == 1) or len(img.shape) == 2:\n",
        "                cmap = \"binary\"\n",
        "            if len(img.shape) == 3 and img.shape[2] == 1:\n",
        "                img = img.reshape((img.shape[0], img.shape[1]))\n",
        "            ax.imshow(img, cmap=cmap)\n",
        "            ax.set_title(\"Predicted = %s, Actual = %s\" % (classes[yp[idx1]], classes[y_true[idx1]]))\n",
        "            idx1 += 1\n",
        "            jdx += 1\n",
        "\n",
        "        for column in range(columns):\n",
        "            if idx2 >= len(Y_pred):\n",
        "                break\n",
        "            yps = Y_pred[idx2]\n",
        "            ax = fig.add_subplot(rows * 2, columns, jdx + 1, xticks=[], yticks=[])\n",
        "            ind = np.arange(len(classes))\n",
        "            rects = ax.bar(ind, yps, 0.25, label='Labels')\n",
        "            ax.set_ylabel('Probability')\n",
        "            ax.set_yticks(np.arange(0, 1.2, 0.2))\n",
        "            #ax.set_title('Probability vs Labels')\n",
        "            ax.set_xticks(ind)\n",
        "            ax.set_xticklabels(classes)\n",
        "            ax.legend()\n",
        "            idx2 += 1\n",
        "            jdx += 1\n",
        "    plt.show()"
      ],
      "execution_count": 0,
      "outputs": []
    },
    {
      "cell_type": "code",
      "metadata": {
        "id": "YZ0o2KQ8Inbg",
        "colab_type": "code",
        "colab": {}
      },
      "source": [
        "def get_mnist_labels():\n",
        "    return list(range(0, 10))"
      ],
      "execution_count": 0,
      "outputs": []
    },
    {
      "cell_type": "code",
      "metadata": {
        "id": "n-t5vHIMIYYY",
        "colab_type": "code",
        "colab": {
          "base_uri": "https://localhost:8080/",
          "height": 2238
        },
        "outputId": "f990e974-29bd-4c47-9a26-47309ed13d70"
      },
      "source": [
        "# 25 misclassified images\n",
        "misclassified_images(testX, testy, y_pred[:len(testy)], columns=5, total=25,classes=get_mnist_labels(), pick_randomly=True, image_size_multiplier=4)"
      ],
      "execution_count": 83,
      "outputs": [
        {
          "output_type": "display_data",
          "data": {
            "image/png": "[encoded data removed]",
            "text/plain": [
              "<Figure size 1440x2880 with 50 Axes>"
            ]
          },
          "metadata": {
            "tags": []
          }
        }
      ]
    },
    {
      "cell_type": "markdown",
      "metadata": {
        "id": "nSdEhsTzt6t8",
        "colab_type": "text"
      },
      "source": [
        "### Evaluate the model and print score"
      ]
    },
    {
      "cell_type": "code",
      "metadata": {
        "id": "4xWoKhPY9Of5",
        "colab_type": "code",
        "outputId": "9c5d1fa8-2802-4169-fe67-94ad583b0045",
        "colab": {
          "base_uri": "https://localhost:8080/",
          "height": 33
        }
      },
      "source": [
        "score = model.evaluate(testX, testy, verbose=0)\n",
        "print(score)"
      ],
      "execution_count": 84,
      "outputs": [
        {
          "output_type": "stream",
          "text": [
            "[0.052105198860168456, 0.9929]\n"
          ],
          "name": "stdout"
        }
      ]
    },
    {
      "cell_type": "code",
      "metadata": {
        "id": "OCWoJkwE9suh",
        "colab_type": "code",
        "colab": {}
      },
      "source": [
        "y_pred = model.predict(testX)"
      ],
      "execution_count": 0,
      "outputs": []
    },
    {
      "cell_type": "code",
      "metadata": {
        "id": "Ym7iCFBm9uBs",
        "colab_type": "code",
        "outputId": "17012130-0c5b-4b6d-9425-01eb8320cecd",
        "colab": {
          "base_uri": "https://localhost:8080/",
          "height": 468
        }
      },
      "source": [
        "print(y_pred[:9])\n",
        "print(testy[:9])"
      ],
      "execution_count": 86,
      "outputs": [
        {
          "output_type": "stream",
          "text": [
            "[[1.8272230e-07 3.3832464e-05 4.7142930e-05 3.5270561e-05 1.0050196e-06\n",
            "  1.5856652e-07 8.2815932e-09 9.9983168e-01 3.2581149e-06 4.7433448e-05]\n",
            " [6.2641071e-04 2.8171716e-04 9.9906033e-01 1.3531929e-05 5.9162272e-07\n",
            "  2.0105112e-08 8.2588958e-06 1.6851160e-06 7.3693163e-06 6.1555383e-08]\n",
            " [4.6064564e-05 9.9905962e-01 3.5116136e-05 5.3302451e-06 3.4321161e-04\n",
            "  5.5175828e-05 1.4240628e-06 4.3678592e-04 1.5575099e-05 1.6462283e-06]\n",
            " [9.9895006e-01 3.1318808e-07 1.0031418e-04 5.5922428e-08 1.9422762e-06\n",
            "  2.1986687e-05 6.0211873e-04 1.8746447e-06 1.5648373e-04 1.6479546e-04]\n",
            " [4.0770701e-08 3.4927802e-05 1.0604756e-05 5.8076055e-09 9.9969733e-01\n",
            "  1.5276712e-06 1.8504842e-06 2.0560386e-05 3.6923896e-06 2.2953741e-04]\n",
            " [1.2393975e-05 9.9889600e-01 9.6342474e-06 2.2691320e-06 4.1359360e-04\n",
            "  3.3305980e-05 4.2921064e-07 6.2306534e-04 7.2508014e-06 2.0101306e-06]\n",
            " [2.7844663e-07 2.7698998e-03 1.4916069e-06 9.9748526e-08 9.9535072e-01\n",
            "  1.1811089e-04 1.2712105e-06 6.6897593e-04 1.1446674e-04 9.7462680e-04]\n",
            " [3.9902225e-06 1.6382814e-09 1.7469547e-05 1.4781563e-06 2.3099870e-04\n",
            "  4.2962865e-06 4.2433793e-08 4.9829719e-06 2.5148771e-04 9.9948514e-01]\n",
            " [5.5987625e-06 1.2764704e-06 1.1959476e-08 1.8031709e-05 6.9024027e-06\n",
            "  9.7845662e-01 2.0533586e-02 2.2011585e-07 9.4482960e-04 3.2850006e-05]]\n",
            "[[0. 0. 0. 0. 0. 0. 0. 1. 0. 0.]\n",
            " [0. 0. 1. 0. 0. 0. 0. 0. 0. 0.]\n",
            " [0. 1. 0. 0. 0. 0. 0. 0. 0. 0.]\n",
            " [1. 0. 0. 0. 0. 0. 0. 0. 0. 0.]\n",
            " [0. 0. 0. 0. 1. 0. 0. 0. 0. 0.]\n",
            " [0. 1. 0. 0. 0. 0. 0. 0. 0. 0.]\n",
            " [0. 0. 0. 0. 1. 0. 0. 0. 0. 0.]\n",
            " [0. 0. 0. 0. 0. 0. 0. 0. 0. 1.]\n",
            " [0. 0. 0. 0. 0. 1. 0. 0. 0. 0.]]\n"
          ],
          "name": "stdout"
        }
      ]
    }
  ]
}