{
  "nbformat": 4,
  "nbformat_minor": 0,
  "metadata": {
    "colab": {
      "name": "Assignment_3_EVA_1stDNN_Jyoti.ipynb",
      "version": "0.3.2",
      "provenance": [],
      "collapsed_sections": []
    },
    "kernelspec": {
      "name": "python3",
      "display_name": "Python 3"
    },
    "accelerator": "GPU"
  },
  "cells": [
    {
      "cell_type": "markdown",
      "metadata": {
        "id": "aNyZv-Ec52ot",
        "colab_type": "text"
      },
      "source": [
        "# **Import Libraries and modules**"
      ]
    },
    {
      "cell_type": "code",
      "metadata": {
        "id": "3m3w1Cw49Zkt",
        "colab_type": "code",
        "colab": {}
      },
      "source": [
        "# https://keras.io/\n",
        "!pip install -q keras\n",
        "import keras"
      ],
      "execution_count": 0,
      "outputs": []
    },
    {
      "cell_type": "markdown",
      "metadata": {
        "id": "ohzM7HAG1NCK",
        "colab_type": "text"
      },
      "source": [
        "## Importing needed libraries  numpy for array or matrix calculations and keras libraries for convolution operations"
      ]
    },
    {
      "cell_type": "code",
      "metadata": {
        "id": "Eso6UHE080D4",
        "colab_type": "code",
        "colab": {}
      },
      "source": [
        "import numpy as np\n",
        "\n",
        "from keras.models import Sequential\n",
        "from keras.layers import Dense, Dropout, Activation, Flatten, Add ,BatchNormalization\n",
        "from keras.layers import Convolution2D, MaxPooling2D\n",
        "from keras.utils import np_utils\n",
        "\n",
        "from keras.datasets import mnist"
      ],
      "execution_count": 0,
      "outputs": []
    },
    {
      "cell_type": "markdown",
      "metadata": {
        "id": "zByEi95J86RD",
        "colab_type": "text"
      },
      "source": [
        "### Load pre-shuffled MNIST data into train and test sets and initilize variabled x_train and x_test with data"
      ]
    },
    {
      "cell_type": "code",
      "metadata": {
        "id": "7eRM0QWN83PV",
        "colab_type": "code",
        "outputId": "1c2e5186-92da-4d18-ae62-8e5e7a48f94f",
        "colab": {
          "base_uri": "https://localhost:8080/",
          "height": 50
        }
      },
      "source": [
        "(X_train, y_train), (X_test, y_test) = mnist.load_data()"
      ],
      "execution_count": 0,
      "outputs": [
        {
          "output_type": "stream",
          "text": [
            "Downloading data from https://s3.amazonaws.com/img-datasets/mnist.npz\n",
            "11493376/11490434 [==============================] - 3s 0us/step\n"
          ],
          "name": "stdout"
        }
      ]
    },
    {
      "cell_type": "markdown",
      "metadata": {
        "id": "yVpvwkyu2DhT",
        "colab_type": "text"
      },
      "source": [
        "## Printing shape of datasets to know how many are there and height & width. And visulize a first dataset image\n"
      ]
    },
    {
      "cell_type": "code",
      "metadata": {
        "id": "4a4Be72j8-ZC",
        "colab_type": "code",
        "outputId": "a11149be-81b8-4fec-c4f4-c322ece88b54",
        "colab": {
          "base_uri": "https://localhost:8080/",
          "height": 302
        }
      },
      "source": [
        "print (X_train.shape)\n",
        "from matplotlib import pyplot as plt\n",
        "%matplotlib inline\n",
        "plt.imshow(X_train[0])"
      ],
      "execution_count": 0,
      "outputs": [
        {
          "output_type": "stream",
          "text": [
            "(60000, 28, 28)\n"
          ],
          "name": "stdout"
        },
        {
          "output_type": "execute_result",
          "data": {
            "text/plain": [
              "<matplotlib.image.AxesImage at 0x7f7883199828>"
            ]
          },
          "metadata": {
            "tags": []
          },
          "execution_count": 5
        },
        {
          "output_type": "display_data",
          "data": {
            "image/png": "[encoded data removed]",
            "text/plain": [
              "<Figure size 432x288 with 1 Axes>"
            ]
          },
          "metadata": {
            "tags": []
          }
        }
      ]
    },
    {
      "cell_type": "markdown",
      "metadata": {
        "id": "vHXELTpP2pmU",
        "colab_type": "text"
      },
      "source": [
        "## To do convodution dataset should be in 3 dimentions . Reshaping image to 3 dimensions by adding one dimension"
      ]
    },
    {
      "cell_type": "code",
      "metadata": {
        "id": "dkmprriw9AnZ",
        "colab_type": "code",
        "colab": {}
      },
      "source": [
        "X_train = X_train.reshape(X_train.shape[0], 28, 28,1)\n",
        "X_test = X_test.reshape(X_test.shape[0], 28, 28,1)"
      ],
      "execution_count": 0,
      "outputs": []
    },
    {
      "cell_type": "markdown",
      "metadata": {
        "id": "EYb22Ye03OjB",
        "colab_type": "text"
      },
      "source": [
        "## Here converting dataset to float and rescaling it by dividing 255 (RGB varies 1 to 255) to make dataset values between 0 and 1."
      ]
    },
    {
      "cell_type": "code",
      "metadata": {
        "id": "X2m4YS4E9CRh",
        "colab_type": "code",
        "colab": {}
      },
      "source": [
        "X_train = X_train.astype('float32')\n",
        "X_test = X_test.astype('float32')\n",
        "X_train /= 255\n",
        "X_test /= 255"
      ],
      "execution_count": 0,
      "outputs": []
    },
    {
      "cell_type": "markdown",
      "metadata": {
        "id": "-h_ecktd3n01",
        "colab_type": "text"
      },
      "source": [
        "## showing all column values with 10 columns"
      ]
    },
    {
      "cell_type": "code",
      "metadata": {
        "id": "0Mn0vAYD9DvB",
        "colab_type": "code",
        "outputId": "6ad7d6bd-4abc-4cc9-81dd-bccc25a63982",
        "colab": {
          "base_uri": "https://localhost:8080/",
          "height": 33
        }
      },
      "source": [
        "y_train[:10]"
      ],
      "execution_count": 0,
      "outputs": [
        {
          "output_type": "execute_result",
          "data": {
            "text/plain": [
              "array([5, 0, 4, 1, 9, 2, 1, 3, 1, 4], dtype=uint8)"
            ]
          },
          "metadata": {
            "tags": []
          },
          "execution_count": 8
        }
      ]
    },
    {
      "cell_type": "markdown",
      "metadata": {
        "id": "qIG_FvUF38rc",
        "colab_type": "text"
      },
      "source": [
        "## To get output in 10 dimensions it is required to convert one dimension out put value to 10. Here 10 is possible 0 to 9 outcomes"
      ]
    },
    {
      "cell_type": "code",
      "metadata": {
        "id": "ZG8JiXR39FHC",
        "colab_type": "code",
        "colab": {}
      },
      "source": [
        "# Convert 1-dimensional class arrays to 10-dimensional class matrices\n",
        "Y_train = np_utils.to_categorical(y_train, 10)\n",
        "Y_test = np_utils.to_categorical(y_test, 10)"
      ],
      "execution_count": 0,
      "outputs": []
    },
    {
      "cell_type": "markdown",
      "metadata": {
        "id": "AJNKe_ea4cyU",
        "colab_type": "text"
      },
      "source": [
        "## showing all column values with 10 columns in 10 dimensions"
      ]
    },
    {
      "cell_type": "code",
      "metadata": {
        "id": "fYlFRvKS9HMB",
        "colab_type": "code",
        "outputId": "17706c0b-0ee9-441c-8e5e-8d0181192306",
        "colab": {
          "base_uri": "https://localhost:8080/",
          "height": 184
        }
      },
      "source": [
        "Y_train[:10]\n"
      ],
      "execution_count": 0,
      "outputs": [
        {
          "output_type": "execute_result",
          "data": {
            "text/plain": [
              "array([[0., 0., 0., 0., 0., 1., 0., 0., 0., 0.],\n",
              "       [1., 0., 0., 0., 0., 0., 0., 0., 0., 0.],\n",
              "       [0., 0., 0., 0., 1., 0., 0., 0., 0., 0.],\n",
              "       [0., 1., 0., 0., 0., 0., 0., 0., 0., 0.],\n",
              "       [0., 0., 0., 0., 0., 0., 0., 0., 0., 1.],\n",
              "       [0., 0., 1., 0., 0., 0., 0., 0., 0., 0.],\n",
              "       [0., 1., 0., 0., 0., 0., 0., 0., 0., 0.],\n",
              "       [0., 0., 0., 1., 0., 0., 0., 0., 0., 0.],\n",
              "       [0., 1., 0., 0., 0., 0., 0., 0., 0., 0.],\n",
              "       [0., 0., 0., 0., 1., 0., 0., 0., 0., 0.]], dtype=float32)"
            ]
          },
          "metadata": {
            "tags": []
          },
          "execution_count": 10
        }
      ]
    },
    {
      "cell_type": "markdown",
      "metadata": {
        "id": "SL_DCSnC3TuN",
        "colab_type": "text"
      },
      "source": [
        "## Created a simple CNN using 11.9k Trainable parameters and 212 non trainable parameters. Used Convolution 2D with 1x1 and 3x3 filters and  Batchnormalization , Activation = ReLu. Validation accuracy achieved - 99.33% .   output - [0.0345307866926848, 0.9933]"
      ]
    },
    {
      "cell_type": "code",
      "metadata": {
        "id": "1wlfQ2rORIY7",
        "colab_type": "code",
        "outputId": "429cc4e9-b304-46d5-99c6-29544e2e8262",
        "colab": {
          "base_uri": "https://localhost:8080/",
          "height": 1124
        }
      },
      "source": [
        "\n",
        "from keras.layers import Activation\n",
        "model = Sequential()\n",
        "\n",
        "model.add(Convolution2D(8, 3,3, input_shape=(28,28,1)))# RF 3x3 # image - 26x26\n",
        "model.add(Activation(\"relu\"))\n",
        "model.add(BatchNormalization())\n",
        "\n",
        "model.add(Convolution2D(16,3)) # RF 5x5 # image - 24x24\n",
        "model.add(Activation(\"relu\"))\n",
        "model.add(BatchNormalization())\n",
        "\n",
        "\n",
        "model.add(Convolution2D(32,3)) # RF 7x7 image - 22x22\n",
        "model.add(Activation(\"relu\"))\n",
        "model.add(BatchNormalization())\n",
        "\n",
        "model.add(MaxPooling2D(pool_size=(2, 2))) #24 image - 11x11\n",
        "\n",
        "model.add(Convolution2D(10,1))  # RF 7x7 image - 11x11\n",
        "model.add(Activation(\"relu\"))\n",
        "model.add(BatchNormalization())\n",
        "\n",
        "\n",
        "model.add(Convolution2D(10,5)) # RF 9x9 image - 7x7\n",
        "model.add(Activation(\"relu\"))\n",
        "model.add(BatchNormalization())\n",
        "# model.add(MaxPooling2D(pool_size=(2, 2))) # max pulling this usae is not wise as it is again decreasing dimentions but reducing inf0- and Acuuracy was not improving DUE to this  \n",
        "\n",
        "\n",
        "model.add(Convolution2D(10,3)) # RF 13x13 image - 5x5\n",
        "model.add(Activation(\"relu\"))\n",
        "model.add(BatchNormalization())\n",
        "\n",
        "model.add(Convolution2D(10,3)) # RF 15x17 image - 3x3\n",
        "model.add(Activation(\"relu\"))\n",
        "model.add(BatchNormalization())\n",
        "\n",
        "model.add(Convolution2D(10,3)) # RF 17x17 image - 1x1\n",
        "model.add(Activation(\"relu\"))\n",
        "model.add(BatchNormalization())\n",
        "\n",
        "\n",
        "model.add(Convolution2D(10, 1))# # RF 17x17 image - 1x1\n",
        "\n",
        "model.add(Flatten())\n",
        "model.add(Activation('softmax'))\n",
        "model.summary()\n",
        "\n"
      ],
      "execution_count": 0,
      "outputs": [
        {
          "output_type": "stream",
          "text": [
            "/usr/local/lib/python3.6/dist-packages/ipykernel_launcher.py:5: UserWarning: Update your `Conv2D` call to the Keras 2 API: `Conv2D(8, (3, 3), input_shape=(28, 28, 1...)`\n",
            "  \"\"\"\n"
          ],
          "name": "stderr"
        },
        {
          "output_type": "stream",
          "text": [
            "_________________________________________________________________\n",
            "Layer (type)                 Output Shape              Param #   \n",
            "=================================================================\n",
            "conv2d_178 (Conv2D)          (None, 26, 26, 8)         80        \n",
            "_________________________________________________________________\n",
            "activation_42 (Activation)   (None, 26, 26, 8)         0         \n",
            "_________________________________________________________________\n",
            "batch_normalization_25 (Batc (None, 26, 26, 8)         32        \n",
            "_________________________________________________________________\n",
            "conv2d_179 (Conv2D)          (None, 24, 24, 16)        1168      \n",
            "_________________________________________________________________\n",
            "activation_43 (Activation)   (None, 24, 24, 16)        0         \n",
            "_________________________________________________________________\n",
            "batch_normalization_26 (Batc (None, 24, 24, 16)        64        \n",
            "_________________________________________________________________\n",
            "conv2d_180 (Conv2D)          (None, 22, 22, 32)        4640      \n",
            "_________________________________________________________________\n",
            "activation_44 (Activation)   (None, 22, 22, 32)        0         \n",
            "_________________________________________________________________\n",
            "batch_normalization_27 (Batc (None, 22, 22, 32)        128       \n",
            "_________________________________________________________________\n",
            "max_pooling2d_49 (MaxPooling (None, 11, 11, 32)        0         \n",
            "_________________________________________________________________\n",
            "conv2d_181 (Conv2D)          (None, 11, 11, 10)        330       \n",
            "_________________________________________________________________\n",
            "activation_45 (Activation)   (None, 11, 11, 10)        0         \n",
            "_________________________________________________________________\n",
            "batch_normalization_28 (Batc (None, 11, 11, 10)        40        \n",
            "_________________________________________________________________\n",
            "conv2d_182 (Conv2D)          (None, 7, 7, 10)          2510      \n",
            "_________________________________________________________________\n",
            "activation_46 (Activation)   (None, 7, 7, 10)          0         \n",
            "_________________________________________________________________\n",
            "batch_normalization_29 (Batc (None, 7, 7, 10)          40        \n",
            "_________________________________________________________________\n",
            "conv2d_183 (Conv2D)          (None, 5, 5, 10)          910       \n",
            "_________________________________________________________________\n",
            "activation_47 (Activation)   (None, 5, 5, 10)          0         \n",
            "_________________________________________________________________\n",
            "batch_normalization_30 (Batc (None, 5, 5, 10)          40        \n",
            "_________________________________________________________________\n",
            "conv2d_184 (Conv2D)          (None, 3, 3, 10)          910       \n",
            "_________________________________________________________________\n",
            "activation_48 (Activation)   (None, 3, 3, 10)          0         \n",
            "_________________________________________________________________\n",
            "batch_normalization_31 (Batc (None, 3, 3, 10)          40        \n",
            "_________________________________________________________________\n",
            "conv2d_185 (Conv2D)          (None, 1, 1, 10)          910       \n",
            "_________________________________________________________________\n",
            "activation_49 (Activation)   (None, 1, 1, 10)          0         \n",
            "_________________________________________________________________\n",
            "batch_normalization_32 (Batc (None, 1, 1, 10)          40        \n",
            "_________________________________________________________________\n",
            "conv2d_186 (Conv2D)          (None, 1, 1, 10)          110       \n",
            "_________________________________________________________________\n",
            "flatten_26 (Flatten)         (None, 10)                0         \n",
            "_________________________________________________________________\n",
            "activation_50 (Activation)   (None, 10)                0         \n",
            "=================================================================\n",
            "Total params: 11,992\n",
            "Trainable params: 11,780\n",
            "Non-trainable params: 212\n",
            "_________________________________________________________________\n"
          ],
          "name": "stdout"
        }
      ]
    },
    {
      "cell_type": "markdown",
      "metadata": {
        "id": "iqhrPaW_4kG_",
        "colab_type": "text"
      },
      "source": [
        "### Compile and train the model for batch size 64 for 30 epochs got validation acc -99.14 % "
      ]
    },
    {
      "cell_type": "code",
      "metadata": {
        "id": "Zp6SuGrL9M3h",
        "colab_type": "code",
        "outputId": "0e6392db-6de4-4725-eb14-433a038c6b80",
        "colab": {
          "base_uri": "https://localhost:8080/",
          "height": 1087
        }
      },
      "source": [
        "model.compile(loss='categorical_crossentropy',\n",
        "             optimizer='adam',\n",
        "             metrics=['accuracy'])\n",
        "\n",
        "model.fit(X_train, Y_train, batch_size=64, nb_epoch=30,validation_data=(X_test,Y_test), verbose=1)\n",
        "score = model.evaluate(X_test, Y_test, verbose=0)\n",
        "print(score)"
      ],
      "execution_count": 0,
      "outputs": [
        {
          "output_type": "stream",
          "text": [
            "/usr/local/lib/python3.6/dist-packages/ipykernel_launcher.py:5: UserWarning: The `nb_epoch` argument in `fit` has been renamed `epochs`.\n",
            "  \"\"\"\n"
          ],
          "name": "stderr"
        },
        {
          "output_type": "stream",
          "text": [
            "Train on 60000 samples, validate on 10000 samples\n",
            "Epoch 1/30\n",
            "60000/60000 [==============================] - 29s 483us/step - loss: 0.4446 - acc: 0.8884 - val_loss: 0.0915 - val_acc: 0.9759\n",
            "Epoch 2/30\n",
            "60000/60000 [==============================] - 15s 255us/step - loss: 0.0872 - acc: 0.9766 - val_loss: 0.0623 - val_acc: 0.9811\n",
            "Epoch 3/30\n",
            "60000/60000 [==============================] - 14s 240us/step - loss: 0.0620 - acc: 0.9814 - val_loss: 0.0635 - val_acc: 0.9801\n",
            "Epoch 4/30\n",
            "60000/60000 [==============================] - 14s 238us/step - loss: 0.0523 - acc: 0.9845 - val_loss: 0.0546 - val_acc: 0.9830\n",
            "Epoch 5/30\n",
            "60000/60000 [==============================] - 14s 237us/step - loss: 0.0434 - acc: 0.9865 - val_loss: 0.0456 - val_acc: 0.9847\n",
            "Epoch 6/30\n",
            "60000/60000 [==============================] - 15s 256us/step - loss: 0.0385 - acc: 0.9883 - val_loss: 0.0322 - val_acc: 0.9896\n",
            "Epoch 7/30\n",
            "60000/60000 [==============================] - 14s 237us/step - loss: 0.0353 - acc: 0.9890 - val_loss: 0.0372 - val_acc: 0.9883\n",
            "Epoch 8/30\n",
            "60000/60000 [==============================] - 14s 237us/step - loss: 0.0328 - acc: 0.9898 - val_loss: 0.0348 - val_acc: 0.9885\n",
            "Epoch 9/30\n",
            "60000/60000 [==============================] - 14s 236us/step - loss: 0.0318 - acc: 0.9900 - val_loss: 0.0279 - val_acc: 0.9908\n",
            "Epoch 10/30\n",
            "60000/60000 [==============================] - 14s 238us/step - loss: 0.0290 - acc: 0.9908 - val_loss: 0.0347 - val_acc: 0.9898\n",
            "Epoch 11/30\n",
            "60000/60000 [==============================] - 15s 247us/step - loss: 0.0263 - acc: 0.9919 - val_loss: 0.0311 - val_acc: 0.9906\n",
            "Epoch 12/30\n",
            "60000/60000 [==============================] - 15s 246us/step - loss: 0.0246 - acc: 0.9915 - val_loss: 0.0270 - val_acc: 0.9920\n",
            "Epoch 13/30\n",
            "60000/60000 [==============================] - 14s 236us/step - loss: 0.0243 - acc: 0.9921 - val_loss: 0.0337 - val_acc: 0.9895\n",
            "Epoch 14/30\n",
            "60000/60000 [==============================] - 14s 238us/step - loss: 0.0204 - acc: 0.9935 - val_loss: 0.0345 - val_acc: 0.9894\n",
            "Epoch 15/30\n",
            "60000/60000 [==============================] - 14s 238us/step - loss: 0.0209 - acc: 0.9934 - val_loss: 0.0312 - val_acc: 0.9902\n",
            "Epoch 16/30\n",
            "60000/60000 [==============================] - 14s 238us/step - loss: 0.0200 - acc: 0.9935 - val_loss: 0.0304 - val_acc: 0.9907\n",
            "Epoch 17/30\n",
            "60000/60000 [==============================] - 15s 255us/step - loss: 0.0188 - acc: 0.9938 - val_loss: 0.0296 - val_acc: 0.9907\n",
            "Epoch 18/30\n",
            "60000/60000 [==============================] - 14s 237us/step - loss: 0.0194 - acc: 0.9942 - val_loss: 0.0259 - val_acc: 0.9922\n",
            "Epoch 19/30\n",
            "60000/60000 [==============================] - 14s 236us/step - loss: 0.0168 - acc: 0.9947 - val_loss: 0.0356 - val_acc: 0.9892\n",
            "Epoch 20/30\n",
            "60000/60000 [==============================] - 14s 236us/step - loss: 0.0151 - acc: 0.9948 - val_loss: 0.0322 - val_acc: 0.9910\n",
            "Epoch 21/30\n",
            "60000/60000 [==============================] - 14s 238us/step - loss: 0.0148 - acc: 0.9951 - val_loss: 0.0356 - val_acc: 0.9895\n",
            "Epoch 22/30\n",
            "60000/60000 [==============================] - 15s 253us/step - loss: 0.0150 - acc: 0.9952 - val_loss: 0.0352 - val_acc: 0.9902\n",
            "Epoch 23/30\n",
            "60000/60000 [==============================] - 16s 265us/step - loss: 0.0131 - acc: 0.9959 - val_loss: 0.0271 - val_acc: 0.9920\n",
            "Epoch 24/30\n",
            "60000/60000 [==============================] - 14s 236us/step - loss: 0.0134 - acc: 0.9955 - val_loss: 0.0360 - val_acc: 0.9887\n",
            "Epoch 25/30\n",
            "60000/60000 [==============================] - 14s 238us/step - loss: 0.0122 - acc: 0.9958 - val_loss: 0.0304 - val_acc: 0.9912\n",
            "Epoch 26/30\n",
            "60000/60000 [==============================] - 14s 235us/step - loss: 0.0126 - acc: 0.9958 - val_loss: 0.0369 - val_acc: 0.9900\n",
            "Epoch 27/30\n",
            "60000/60000 [==============================] - 14s 237us/step - loss: 0.0123 - acc: 0.9958 - val_loss: 0.0324 - val_acc: 0.9908\n",
            "Epoch 28/30\n",
            "60000/60000 [==============================] - 15s 255us/step - loss: 0.0121 - acc: 0.9960 - val_loss: 0.0351 - val_acc: 0.9905\n",
            "Epoch 29/30\n",
            "60000/60000 [==============================] - 14s 236us/step - loss: 0.0120 - acc: 0.9962 - val_loss: 0.0333 - val_acc: 0.9914\n",
            "Epoch 30/30\n",
            "60000/60000 [==============================] - 14s 237us/step - loss: 0.0102 - acc: 0.9967 - val_loss: 0.0343 - val_acc: 0.9908\n",
            "[0.03432853817567957, 0.9908]\n"
          ],
          "name": "stdout"
        }
      ]
    },
    {
      "cell_type": "markdown",
      "metadata": {
        "id": "iYVFimg85Dzh",
        "colab_type": "text"
      },
      "source": [
        "## Increased batch size from 64 to 128 and ran for 5 epochs .Val acc= 99.23"
      ]
    },
    {
      "cell_type": "code",
      "metadata": {
        "id": "_8RSQJracxfe",
        "colab_type": "code",
        "outputId": "dcc368a9-65e6-4a78-8d61-4158dd5013d0",
        "colab": {
          "base_uri": "https://localhost:8080/",
          "height": 251
        }
      },
      "source": [
        "model.compile(loss='categorical_crossentropy',\n",
        "             optimizer='adam',\n",
        "             metrics=['accuracy'])\n",
        "\n",
        "model.fit(X_train, Y_train, batch_size=128, nb_epoch=5,validation_data=(X_test,Y_test), verbose=1)\n",
        "score = model.evaluate(X_test, Y_test, verbose=0)\n",
        "print(score)"
      ],
      "execution_count": 0,
      "outputs": [
        {
          "output_type": "stream",
          "text": [
            "/usr/local/lib/python3.6/dist-packages/ipykernel_launcher.py:5: UserWarning: The `nb_epoch` argument in `fit` has been renamed `epochs`.\n",
            "  \"\"\"\n"
          ],
          "name": "stderr"
        },
        {
          "output_type": "stream",
          "text": [
            "Train on 60000 samples, validate on 10000 samples\n",
            "Epoch 1/5\n",
            "60000/60000 [==============================] - 21s 346us/step - loss: 0.0057 - acc: 0.9983 - val_loss: 0.0260 - val_acc: 0.9923\n",
            "Epoch 2/5\n",
            "60000/60000 [==============================] - 8s 132us/step - loss: 0.0055 - acc: 0.9983 - val_loss: 0.0323 - val_acc: 0.9917\n",
            "Epoch 3/5\n",
            "60000/60000 [==============================] - 8s 142us/step - loss: 0.0033 - acc: 0.9990 - val_loss: 0.0356 - val_acc: 0.9907\n",
            "Epoch 4/5\n",
            "60000/60000 [==============================] - 8s 127us/step - loss: 0.0044 - acc: 0.9988 - val_loss: 0.0389 - val_acc: 0.9899\n",
            "Epoch 5/5\n",
            "60000/60000 [==============================] - 8s 128us/step - loss: 0.0061 - acc: 0.9979 - val_loss: 0.0336 - val_acc: 0.9918\n",
            "[0.033553440584605417, 0.9918]\n"
          ],
          "name": "stdout"
        }
      ]
    },
    {
      "cell_type": "markdown",
      "metadata": {
        "id": "Scm_8VXW5cjb",
        "colab_type": "text"
      },
      "source": [
        "## Increased batch size from 128 to 256 and ran for 10 epochs .Val acc= 99.33"
      ]
    },
    {
      "cell_type": "code",
      "metadata": {
        "id": "5PXUssqiTN42",
        "colab_type": "code",
        "outputId": "385af4c7-170b-42b9-c154-876ad511aaaf",
        "colab": {
          "base_uri": "https://localhost:8080/",
          "height": 418
        }
      },
      "source": [
        "model.compile(loss='categorical_crossentropy',\n",
        "             optimizer='adam',\n",
        "             metrics=['accuracy'])\n",
        "\n",
        "model.fit(X_train, Y_train, batch_size=256, nb_epoch=10,validation_data=(X_test,Y_test), verbose=1)\n",
        "score = model.evaluate(X_test, Y_test, verbose=0)\n",
        "print(score)"
      ],
      "execution_count": 0,
      "outputs": [
        {
          "output_type": "stream",
          "text": [
            "/usr/local/lib/python3.6/dist-packages/ipykernel_launcher.py:5: UserWarning: The `nb_epoch` argument in `fit` has been renamed `epochs`.\n",
            "  \"\"\"\n"
          ],
          "name": "stderr"
        },
        {
          "output_type": "stream",
          "text": [
            "Train on 60000 samples, validate on 10000 samples\n",
            "Epoch 1/10\n",
            "60000/60000 [==============================] - 19s 323us/step - loss: 0.0017 - acc: 0.9995 - val_loss: 0.0357 - val_acc: 0.9924\n",
            "Epoch 2/10\n",
            "60000/60000 [==============================] - 5s 76us/step - loss: 7.6147e-04 - acc: 0.9999 - val_loss: 0.0356 - val_acc: 0.9918\n",
            "Epoch 3/10\n",
            "60000/60000 [==============================] - 5s 80us/step - loss: 4.4185e-04 - acc: 0.9999 - val_loss: 0.0333 - val_acc: 0.9930\n",
            "Epoch 4/10\n",
            "60000/60000 [==============================] - 5s 82us/step - loss: 5.6186e-04 - acc: 0.9999 - val_loss: 0.0395 - val_acc: 0.9915\n",
            "Epoch 5/10\n",
            "60000/60000 [==============================] - 5s 79us/step - loss: 0.0054 - acc: 0.9981 - val_loss: 0.0430 - val_acc: 0.9908\n",
            "Epoch 6/10\n",
            "60000/60000 [==============================] - 5s 76us/step - loss: 0.0019 - acc: 0.9994 - val_loss: 0.0377 - val_acc: 0.9914\n",
            "Epoch 7/10\n",
            "60000/60000 [==============================] - 5s 77us/step - loss: 0.0011 - acc: 0.9997 - val_loss: 0.0405 - val_acc: 0.9921\n",
            "Epoch 8/10\n",
            "60000/60000 [==============================] - 5s 76us/step - loss: 3.1187e-04 - acc: 1.0000 - val_loss: 0.0348 - val_acc: 0.9926\n",
            "Epoch 9/10\n",
            "60000/60000 [==============================] - 5s 76us/step - loss: 1.8989e-04 - acc: 1.0000 - val_loss: 0.0363 - val_acc: 0.9925\n",
            "Epoch 10/10\n",
            "60000/60000 [==============================] - 5s 76us/step - loss: 1.4724e-04 - acc: 1.0000 - val_loss: 0.0345 - val_acc: 0.9933\n",
            "[0.0345307866926848, 0.9933]\n"
          ],
          "name": "stdout"
        }
      ]
    },
    {
      "cell_type": "code",
      "metadata": {
        "id": "OCWoJkwE9suh",
        "colab_type": "code",
        "colab": {}
      },
      "source": [
        "y_pred = model.predict(X_test)"
      ],
      "execution_count": 0,
      "outputs": []
    },
    {
      "cell_type": "code",
      "metadata": {
        "id": "Ym7iCFBm9uBs",
        "colab_type": "code",
        "outputId": "4a89c923-26ef-4434-8b2b-37c8ceef122f",
        "colab": {
          "base_uri": "https://localhost:8080/",
          "height": 485
        }
      },
      "source": [
        "print(y_pred[:9])\n",
        "print(y_test[:9])"
      ],
      "execution_count": 0,
      "outputs": [
        {
          "output_type": "stream",
          "text": [
            "[[1.48802359e-09 1.22754921e-06 1.00626687e-06 3.01106479e-06\n",
            "  7.24262039e-10 1.10740409e-07 1.44004678e-11 9.99988556e-01\n",
            "  9.82002391e-08 6.02267801e-06]\n",
            " [4.26715054e-08 1.68953946e-07 9.99999762e-01 9.64998859e-10\n",
            "  7.75523309e-12 3.54789613e-12 2.81510282e-09 6.79721696e-11\n",
            "  6.60784691e-11 3.17403981e-13]\n",
            " [1.64721484e-07 9.99972582e-01 3.04524315e-06 2.09180044e-07\n",
            "  5.02063722e-06 8.42481313e-07 4.18712170e-06 1.19961269e-05\n",
            "  1.72088403e-06 3.46846122e-07]\n",
            " [9.99987245e-01 1.06185956e-10 2.16145864e-07 1.75945924e-08\n",
            "  5.07772768e-10 2.14681739e-09 7.21329479e-06 8.09953840e-11\n",
            "  4.70205987e-06 5.66023857e-07]\n",
            " [1.01747921e-09 9.75169883e-08 9.39600828e-11 3.21488280e-10\n",
            "  9.99987483e-01 3.15652053e-11 1.14874545e-08 6.13374018e-09\n",
            "  2.55311705e-09 1.24201733e-05]\n",
            " [1.57983209e-08 9.99980450e-01 2.17803077e-07 6.14237550e-08\n",
            "  1.65162214e-06 1.57728110e-07 3.98456791e-07 1.50269298e-05\n",
            "  1.76448020e-06 2.33790729e-07]\n",
            " [2.38319043e-12 4.46189142e-06 7.64974473e-10 2.24440562e-12\n",
            "  9.99986529e-01 2.33600032e-11 4.09951101e-11 1.80745204e-07\n",
            "  7.85786960e-06 1.01881403e-06]\n",
            " [2.08008896e-06 6.12090858e-08 3.60909848e-06 5.16939326e-05\n",
            "  1.09219607e-02 1.99217379e-06 6.60171366e-08 6.02274042e-07\n",
            "  2.41766893e-03 9.86600339e-01]\n",
            " [6.35424939e-08 7.78047138e-09 1.31209832e-09 8.00584044e-10\n",
            "  5.82442261e-10 9.94422376e-01 5.57006756e-03 8.70000461e-11\n",
            "  7.43400869e-06 4.11176737e-09]]\n",
            "[7 2 1 0 4 1 4 9 5]\n"
          ],
          "name": "stdout"
        }
      ]
    },
    {
      "cell_type": "code",
      "metadata": {
        "id": "CT--y98_dr2T",
        "colab_type": "code",
        "colab": {}
      },
      "source": [
        "layer_dict = dict([(layer.name, layer) for layer in model.layers])"
      ],
      "execution_count": 0,
      "outputs": []
    },
    {
      "cell_type": "code",
      "metadata": {
        "id": "2GY4Upv4dsUR",
        "colab_type": "code",
        "colab": {}
      },
      "source": [
        "import numpy as np\n",
        "from matplotlib import pyplot as plt\n",
        "from keras import backend as K\n",
        "%matplotlib inline\n",
        "# util function to convert a tensor into a valid image conv2d_178 (Conv2D)          (None, 26, 26, 8)         80        \n",
        "\n",
        "def deprocess_image(x):\n",
        "    # normalize tensor: center on 0., ensure std is 0.1\n",
        "    x -= x.mean()\n",
        "    x /= (x.std() + 1e-5)\n",
        "    x *= 0.1\n",
        "\n",
        "    # clip to [0, 1]\n",
        "    x += 0.5\n",
        "    x = np.clip(x, 0, 1)\n",
        "\n",
        "    # convert to RGB array\n",
        "    x *= 255\n",
        "    #x = x.transpose((1, 2, 0))\n",
        "    x = np.clip(x, 0, 255).astype('uint8')\n",
        "    return x\n",
        "\n",
        "def vis_img_in_filter(img = np.array(X_train[2]).reshape((1, 28, 28, 1)).astype(np.float64),\n",
        "                      layer_name = 'conv2d_178'):\n",
        "    layer_output = layer_dict[layer_name].output\n",
        "    img_ascs = list()\n",
        "    for filter_index in range(layer_output.shape[3]):\n",
        "        # build a loss function that maximizes the activation\n",
        "        # of the nth filter of the layer considered\n",
        "        loss = K.mean(layer_output[:, :, :, filter_index])\n",
        "\n",
        "        # compute the gradient of the input picture wrt this loss\n",
        "        grads = K.gradients(loss, model.input)[0]\n",
        "\n",
        "        # normalization trick: we normalize the gradient\n",
        "        grads /= (K.sqrt(K.mean(K.square(grads))) + 1e-5)\n",
        "\n",
        "        # this function returns the loss and grads given the input picture\n",
        "        iterate = K.function([model.input], [loss, grads])\n",
        "\n",
        "        # step size for gradient ascent\n",
        "        step = 5.\n",
        "\n",
        "        img_asc = np.array(img)\n",
        "        # run gradient ascent for 20 steps\n",
        "        for i in range(20):\n",
        "            loss_value, grads_value = iterate([img_asc])\n",
        "            img_asc += grads_value * step\n",
        "\n",
        "        img_asc = img_asc[0]\n",
        "        img_ascs.append(deprocess_image(img_asc).reshape((28, 28)))\n",
        "        \n",
        "    if layer_output.shape[3] >= 35:\n",
        "        plot_x, plot_y = 6, 6\n",
        "    elif layer_output.shape[3] >= 23:\n",
        "        plot_x, plot_y = 4, 6\n",
        "    elif layer_output.shape[3] >= 11:\n",
        "        plot_x, plot_y = 2, 6\n",
        "    else:\n",
        "        plot_x, plot_y = 1, 2\n",
        "    fig, ax = plt.subplots(plot_x, plot_y, figsize = (12, 12))\n",
        "    ax[0, 0].imshow(img.reshape((28, 28)), cmap = 'gray')\n",
        "    ax[0, 0].set_title('Input image')\n",
        "    fig.suptitle('Input image and %s filters' % (layer_name,))\n",
        "    fig.tight_layout(pad = 0.3, rect = [0, 0, 0.9, 0.9])\n",
        "    for (x, y) in [(i, j) for i in range(plot_x) for j in range(plot_y)]:\n",
        "        if x == 0 and y == 0:\n",
        "            continue\n",
        "        ax[x, y].imshow(img_ascs[x * plot_y + y - 1], cmap = 'gray')\n",
        "        ax[x, y].set_title('filter %d' % (x * plot_y + y - 1))\n",
        "\n",
        "vis_img_in_filter()"
      ],
      "execution_count": 0,
      "outputs": []
    }
  ]
}